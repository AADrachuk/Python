{
 "cells": [
  {
   "cell_type": "markdown",
   "id": "dee82b0a",
   "metadata": {},
   "source": [
    "<h1>Моделирование стоимости под риском (VaR) -- параметрический метод</h1>\n",
    "\n",
    "<p>Разработано Драчуком А. для The Foundation</p>\n",
    "<a href=\"https://t.me/LYFTN\">Следите за нами в Телеграм</a>"
   ]
  },
  {
   "cell_type": "markdown",
   "id": "977923e0",
   "metadata": {},
   "source": [
    "<h3>Импортируем необходимые библиотеки</h3>"
   ]
  },
  {
   "cell_type": "code",
   "execution_count": 89,
   "id": "333aba99",
   "metadata": {},
   "outputs": [],
   "source": [
    "import numpy as np        #библиотека для работы с массивами и матрицами\n",
    "import pandas as pd        #библитека для работы с данными\n",
    "import datetime as dt        #библиотека для работы с временными рядами\n",
    "import yfinance as yf        #библиотека для работы с данными с Yahoo Finance\n",
    "import matplotlib.pyplot as plt        #импорт модуля для формирования графиков из библиотеки для визуализации данных\n",
    "from scipy.stats import norm        #импорт модуля статистических функций из библиотеки научных функций"
   ]
  },
  {
   "cell_type": "markdown",
   "id": "f580573b",
   "metadata": {},
   "source": [
    "<h3>Задаем глубину фактических данных для анализа</h3>"
   ]
  },
  {
   "cell_type": "code",
   "execution_count": 90,
   "id": "19d5614e",
   "metadata": {},
   "outputs": [],
   "source": [
    "years = 15        #указываем кол-во лет для анализа\n",
    "\n",
    "endDate = dt.datetime.now()        #задаем конечную дату -- текущий момент времени\n",
    "startDate = endDate - dt.timedelta(days = 365 * years)        #начальная дата: текущий момент времени - кол-во лет"
   ]
  },
  {
   "cell_type": "markdown",
   "id": "504893bd",
   "metadata": {},
   "source": [
    "<h3>Формируем массив тикеров ценных бумаг, из которых формируем портфель</h3>"
   ]
  },
  {
   "cell_type": "code",
   "execution_count": 91,
   "id": "e2ec1bb6",
   "metadata": {},
   "outputs": [],
   "source": [
    "#SPY -- SPDR S&P 500 ETF Trust\n",
    "#BND -- Vanguard Total Bond Market Index Fund \n",
    "#GLD -- SPDR Gold Shares\n",
    "#QQQ -- Invesco QQQ Trust\n",
    "#VTI -- Vanguard Total Stock Market Index Fund ETF Shares \n",
    "tickers = ['SPY', 'BND', 'GLD', 'QQQ', 'VTI']"
   ]
  },
  {
   "cell_type": "code",
   "execution_count": 92,
   "id": "63ae87bc",
   "metadata": {},
   "outputs": [
    {
     "name": "stderr",
     "output_type": "stream",
     "text": [
      "[*********************100%%**********************]  1 of 1 completed\n",
      "[*********************100%%**********************]  1 of 1 completed\n",
      "[*********************100%%**********************]  1 of 1 completed\n",
      "[*********************100%%**********************]  1 of 1 completed\n",
      "[*********************100%%**********************]  1 of 1 completed"
     ]
    },
    {
     "name": "stdout",
     "output_type": "stream",
     "text": [
      "                   SPY        BND         GLD         QQQ         VTI\n",
      "Date                                                                 \n",
      "2009-06-01   71.499710  50.047081   95.730003   31.808889   36.024342\n",
      "2009-06-02   71.560059  50.236347   96.360001   31.852591   36.168518\n",
      "2009-06-03   70.654732  50.406013   94.410004   31.756432   35.728451\n",
      "2009-06-04   71.318619  50.092812   96.230003   32.114830   36.085052\n",
      "2009-06-05   71.333717  49.753468   93.709999   32.149765   36.016777\n",
      "...                ...        ...         ...         ...         ...\n",
      "2024-05-20  530.059998  71.739998  224.559998  454.910004  262.570007\n",
      "2024-05-21  531.359985  71.889999  224.229996  455.799988  263.109985\n",
      "2024-05-22  529.830017  71.800003  220.110001  455.709991  262.220001\n",
      "2024-05-23  525.960022  71.589996  215.720001  453.660004  259.989990\n",
      "2024-05-24  529.440002  71.669998  215.919998  457.950012  261.869995\n",
      "\n",
      "[3773 rows x 5 columns]\n"
     ]
    },
    {
     "name": "stderr",
     "output_type": "stream",
     "text": [
      "\n"
     ]
    }
   ],
   "source": [
    "adj_close_df = pd.DataFrame()\n",
    "\n",
    "for ticker in tickers:\n",
    "    data = yf.download(ticker, start = startDate, end = endDate)\n",
    "    adj_close_df[ticker] = data['Adj Close']\n",
    "    \n",
    "print(adj_close_df)        #проверяем корректность выгрузки"
   ]
  },
  {
   "cell_type": "markdown",
   "id": "adebf662",
   "metadata": {},
   "source": [
    "<h3>Преобразовываем массив дневных цен в массив дневных доходностей</h3>"
   ]
  },
  {
   "cell_type": "code",
   "execution_count": 93,
   "id": "5673bada",
   "metadata": {},
   "outputs": [
    {
     "name": "stdout",
     "output_type": "stream",
     "text": [
      "                 SPY       BND       GLD       QQQ       VTI\n",
      "Date                                                        \n",
      "2009-06-02  0.000844  0.003775  0.006559  0.001373  0.003994\n",
      "2009-06-03 -0.012732  0.003372 -0.020444 -0.003023 -0.012242\n",
      "2009-06-04  0.009352 -0.006233  0.019094  0.011223  0.009931\n",
      "2009-06-05  0.000212 -0.006797 -0.026536  0.001087 -0.001894\n",
      "2009-06-08 -0.004134 -0.002101 -0.001602 -0.002994 -0.002742\n",
      "...              ...       ...       ...       ...       ...\n",
      "2024-05-20  0.001151 -0.000975  0.004016  0.006949  0.001029\n",
      "2024-05-21  0.002450  0.002089 -0.001471  0.001954  0.002054\n",
      "2024-05-22 -0.002883 -0.001253 -0.018545 -0.000197 -0.003388\n",
      "2024-05-23 -0.007331 -0.002929 -0.020146 -0.004509 -0.008541\n",
      "2024-05-24  0.006595  0.001117  0.000927  0.009412  0.007205\n",
      "\n",
      "[3772 rows x 5 columns]\n"
     ]
    }
   ],
   "source": [
    "log_returns = np.log(adj_close_df/adj_close_df.shift(1))        #рассчитываем натуральный логарифм дневной доходности ценных бумаг\n",
    "log_returns = log_returns.dropna()        #удаляем строки со значениями NaN \n",
    "\n",
    "print(log_returns)        #проверяем массив"
   ]
  },
  {
   "cell_type": "markdown",
   "id": "8a39a704",
   "metadata": {},
   "source": [
    "<h3>Рассчитываем веса для равновесного инвестиционого портфеля</h3>"
   ]
  },
  {
   "cell_type": "code",
   "execution_count": 94,
   "id": "61fbe723",
   "metadata": {},
   "outputs": [
    {
     "name": "stdout",
     "output_type": "stream",
     "text": [
      "[0.2 0.2 0.2 0.2 0.2]\n"
     ]
    }
   ],
   "source": [
    "weights = np.array([1/len(tickers)] * len(tickers))        #формируем массив из одинаковых весов\n",
    "\n",
    "print(weights)        #проверяем веса"
   ]
  },
  {
   "cell_type": "markdown",
   "id": "c90294bb",
   "metadata": {},
   "source": [
    "<h3>Определяем историческую дневную доходность равновесного портфеля</h3>"
   ]
  },
  {
   "cell_type": "code",
   "execution_count": 95,
   "id": "6df3f22b",
   "metadata": {},
   "outputs": [
    {
     "name": "stdout",
     "output_type": "stream",
     "text": [
      "Date\n",
      "2009-06-02    0.003309\n",
      "2009-06-03   -0.009014\n",
      "2009-06-04    0.008674\n",
      "2009-06-05   -0.006786\n",
      "2009-06-08   -0.002715\n",
      "                ...   \n",
      "2024-05-20    0.002434\n",
      "2024-05-21    0.001415\n",
      "2024-05-22   -0.005253\n",
      "2024-05-23   -0.008691\n",
      "2024-05-24    0.005051\n",
      "Length: 3772, dtype: float64\n"
     ]
    }
   ],
   "source": [
    "historical_returns = (log_returns * weights).sum(axis = 1)        #доходность портфеля в конкретный день = сумма взвешенных доходностей инструментов за этот день\n",
    "\n",
    "print(historical_returns)        #проверяем результат"
   ]
  },
  {
   "cell_type": "markdown",
   "id": "4b2fa3ef",
   "metadata": {},
   "source": [
    "<h3>Находим доходность портфеля на рассматриваемом горизонте расчета</h3>"
   ]
  },
  {
   "cell_type": "code",
   "execution_count": 96,
   "id": "89697055",
   "metadata": {},
   "outputs": [
    {
     "name": "stdout",
     "output_type": "stream",
     "text": [
      "Date\n",
      "2009-06-08   -0.006532\n",
      "2009-06-09   -0.005122\n",
      "2009-06-10    0.001740\n",
      "2009-06-11   -0.004241\n",
      "2009-06-12   -0.000436\n",
      "                ...   \n",
      "2024-05-20    0.020487\n",
      "2024-05-21    0.016459\n",
      "2024-05-22   -0.000633\n",
      "2024-05-23   -0.006851\n",
      "2024-05-24   -0.005044\n",
      "Length: 3768, dtype: float64\n"
     ]
    }
   ],
   "source": [
    "days = 5        #кол-во дней, для которого рассчитывается стоимость под риском\n",
    "\n",
    "range_returns = historical_returns.rolling(window = days).sum()       #методом rolling() мы задаем скользящее окно (window), равное кол-ву дней (days), для которого рассчитывается доходность. Для сборки массива суммируем значения \n",
    "range_returns = range_returns.dropna()        #удаляем строки со значениями NaN \n",
    "\n",
    "print(range_returns)        #проверяем результат -- поскольку указали окно в 5 дней, кол-во значений должно быть на (5-1) меньше, чем кол-во значений дневной доходности"
   ]
  },
  {
   "cell_type": "markdown",
   "id": "8699dc20",
   "metadata": {},
   "source": [
    "<h3>Находим значения доходности инвестиционного портфеля в долларах</h3>"
   ]
  },
  {
   "cell_type": "code",
   "execution_count": 97,
   "id": "0594b995",
   "metadata": {},
   "outputs": [
    {
     "name": "stdout",
     "output_type": "stream",
     "text": [
      "Date\n",
      "2009-06-08    -6531.752566\n",
      "2009-06-09    -5121.632019\n",
      "2009-06-10     1739.898092\n",
      "2009-06-11    -4240.693891\n",
      "2009-06-12     -435.871108\n",
      "                  ...     \n",
      "2024-05-20    20487.256332\n",
      "2024-05-21    16458.704082\n",
      "2024-05-22     -633.294888\n",
      "2024-05-23    -6851.114158\n",
      "2024-05-24    -5044.240320\n",
      "Length: 3768, dtype: float64\n"
     ]
    }
   ],
   "source": [
    "portfolio_value = 1000000        #задаем значение стоимости порфтеля \n",
    "range_returns_dollar = range_returns * portfolio_value        #находим значения доходностей в долларах\n",
    "\n",
    "print(range_returns_dollar)        #проверяем результат"
   ]
  },
  {
   "cell_type": "markdown",
   "id": "c6ac1729",
   "metadata": {},
   "source": [
    "<h3>Находим ковариационную матрицу и риск равновесного портфеля</h3>"
   ]
  },
  {
   "cell_type": "code",
   "execution_count": 98,
   "id": "0508764d",
   "metadata": {},
   "outputs": [],
   "source": [
    "#функция риска портфеля\n",
    "def standard_deviation(weights, cov_matrix): \n",
    "        variance = weights.T @ cov_matrix @ weights \n",
    "        return np.sqrt(variance)"
   ]
  },
  {
   "cell_type": "code",
   "execution_count": 99,
   "id": "538e3e5b",
   "metadata": {},
   "outputs": [
    {
     "name": "stdout",
     "output_type": "stream",
     "text": [
      "          SPY       BND       GLD       QQQ       VTI\n",
      "SPY  0.029679 -0.000063  0.001762  0.032622  0.030293\n",
      "BND -0.000063  0.002318  0.002159  0.000162 -0.000011\n",
      "GLD  0.001762  0.002159  0.024366  0.001971  0.001913\n",
      "QQQ  0.032622  0.000162  0.001971  0.041654  0.033344\n",
      "VTI  0.030293 -0.000011  0.001913  0.033344  0.031185\n"
     ]
    }
   ],
   "source": [
    "#формируем ковариационную матрицу\n",
    "cov_matrix = log_returns.cov() * 252        #рассчитываем ковариационную матрицу для годового исчисления\n",
    "\n",
    "print(cov_matrix)        #проверяем результат"
   ]
  },
  {
   "cell_type": "code",
   "execution_count": 100,
   "id": "1186d681",
   "metadata": {},
   "outputs": [
    {
     "name": "stdout",
     "output_type": "stream",
     "text": [
      "0.11619058481371003\n"
     ]
    }
   ],
   "source": [
    "portfolio_std_dev = standard_deviation(weights, cov_matrix)        #находим риск равновесного портфеля\n",
    "\n",
    "print(portfolio_std_dev)"
   ]
  },
  {
   "cell_type": "markdown",
   "id": "ab81fe87",
   "metadata": {},
   "source": [
    "<h3>Формируем массив значений доверительного интервала</h3>"
   ]
  },
  {
   "cell_type": "code",
   "execution_count": 101,
   "id": "7100a69b",
   "metadata": {},
   "outputs": [],
   "source": [
    "confidence_levels = [0.90, 0.95, 0.99]"
   ]
  },
  {
   "cell_type": "markdown",
   "id": "b6c5bb8a",
   "metadata": {},
   "source": [
    "<h3>Рассчитываем VaR для разных значений доверительного интервала</h3>"
   ]
  },
  {
   "cell_type": "code",
   "execution_count": 102,
   "id": "17d8c6cf",
   "metadata": {},
   "outputs": [
    {
     "name": "stdout",
     "output_type": "stream",
     "text": [
      "[20974.506673451426, 26920.487870250876, 38074.15973004875]\n"
     ]
    }
   ],
   "source": [
    "VaRs = []          #создаем пустой массив VaR, в который будем записывать результаты расчетов\n",
    "\n",
    "for cl in confidence_levels:\n",
    "    VaR = portfolio_value * portfolio_std_dev * norm.ppf(cl) * np.sqrt(days/252)\n",
    "    VaRs.append(VaR)\n",
    "    \n",
    "\n",
    "print(VaRs)        #проверяем результат"
   ]
  },
  {
   "cell_type": "markdown",
   "id": "b9757ab1",
   "metadata": {},
   "source": [
    "<h3>Визуализируем результаты оценки VaR параметрическим методом в таблицу и на график</h3>"
   ]
  },
  {
   "cell_type": "code",
   "execution_count": 103,
   "id": "1825c260",
   "metadata": {},
   "outputs": [
    {
     "name": "stdout",
     "output_type": "stream",
     "text": [
      "\u001b[1mДоверительный интервал         Стоимость под риском (VaR)\n",
      "------------------------------------------------------------\n",
      "\u001b[0m          90%:                      $ 20,974.51\n",
      "\u001b[0m          95%:                      $ 26,920.49\n",
      "\u001b[0m          99%:                      $ 38,074.16\n",
      "\n",
      "\n"
     ]
    },
    {
     "data": {
      "image/png": "[encoded data removed]",
      "text/plain": [
       "<Figure size 640x480 with 1 Axes>"
      ]
     },
     "metadata": {},
     "output_type": "display_data"
    }
   ],
   "source": [
    "#формируем таблицу\n",
    "print('\\033[1m' + f'{\"Доверительный интервал\":<30} {\"Стоимость под риском (VaR)\": <20}')\n",
    "print('-' * 60)\n",
    "\n",
    "\n",
    "for cl, VaR in zip(confidence_levels, VaRs):\n",
    "    print('\\033[0m' + f'{\"\":<5} {cl * 100:>6.0f}%: {\"\":<20} ${VaR:>10,.2f}')\n",
    "\n",
    "print('\\n')\n",
    "    \n",
    "#формируем график\n",
    "colors = ['r', 'b', 'g']        #задаем массив цветов, чтобы линии VaR отличались цветом для разных доверительных интервалов\n",
    "\n",
    "plt.hist(range_returns_dollar, bins = 50, density = True)\n",
    "plt.xlabel(f'Распределение прибыли / убытков инвестиционного портфеля для горизонта {days} дней')\n",
    "plt.ylabel('Частота')\n",
    "plt.title(label=f'Распределение прибыли / убытков инвестиционного  портфеля на протяжении {days} дней')\n",
    "\n",
    "for cl, VaR, cr in zip(confidence_levels, VaRs, colors):\n",
    "    plt.axvline(x = -VaR, color=f'{cr}', linestyle='dashed', linewidth=2, label = f'Стоимость под риском (VaR) для {cl:.0%} доверительного интервала')\n",
    "   \n",
    "plt.legend(loc='upper center', bbox_to_anchor=(1.6, 1.0), frameon=False, shadow=False)\n",
    "plt.show()"
   ]
  },
  {
   "cell_type": "raw",
   "id": "ca637889",
   "metadata": {},
   "source": []
  }
 ],
 "metadata": {
  "kernelspec": {
   "display_name": "Python 3 (ipykernel)",
   "language": "python",
   "name": "python3"
  },
  "language_info": {
   "codemirror_mode": {
    "name": "ipython",
    "version": 3
   },
   "file_extension": ".py",
   "mimetype": "text/x-python",
   "name": "python",
   "nbconvert_exporter": "python",
   "pygments_lexer": "ipython3",
   "version": "3.11.7"
  }
 },
 "nbformat": 4,
 "nbformat_minor": 5
}

{
 "cells": [
  {
   "cell_type": "markdown",
   "id": "dee82b0a",
   "metadata": {},
   "source": [
    "<h1>Моделирование стоимости под риском (VaR) -- исторический метод</h1>\n",
    "\n",
    "<p>Разработано Драчуком А. для The Foundation</p>\n",
    "<a href=\"https://t.me/LYFTN\">Следите за нами в Телеграм</a>"
   ]
  },
  {
   "cell_type": "markdown",
   "id": "977923e0",
   "metadata": {},
   "source": [
    "<h3>Импортируем необходимые библиотеки</h3>"
   ]
  },
  {
   "cell_type": "code",
   "execution_count": 2,
   "id": "333aba99",
   "metadata": {},
   "outputs": [],
   "source": [
    "import numpy as np        #библиотека для работы с массивами и матрицами\n",
    "import pandas as pd        #библитека для работы с данными\n",
    "import datetime as dt        #библиотека для работы с временными рядами\n",
    "import yfinance as yf        #библиотека для работы с данными с Yahoo Finance\n",
    "import matplotlib.pyplot as plt        #импорт модуля для формирования графиков из библиотеки для визуализации данных"
   ]
  },
  {
   "cell_type": "markdown",
   "id": "f580573b",
   "metadata": {},
   "source": [
    "<h3>Задаем глубину фактических данных для анализа</h3>"
   ]
  },
  {
   "cell_type": "code",
   "execution_count": 3,
   "id": "19d5614e",
   "metadata": {},
   "outputs": [],
   "source": [
    "years = 15        #указываем кол-во лет для анализа\n",
    "\n",
    "endDate = dt.datetime.now()        #задаем конечную дату -- текущий момент времени\n",
    "startDate = endDate - dt.timedelta(days = 365 * years)        #начальная дата: текущий момент времени - кол-во лет"
   ]
  },
  {
   "cell_type": "markdown",
   "id": "504893bd",
   "metadata": {},
   "source": [
    "<h3>Формируем массив тикеров ценных бумаг, из которых формируем портфель</h3>"
   ]
  },
  {
   "cell_type": "code",
   "execution_count": 4,
   "id": "e2ec1bb6",
   "metadata": {},
   "outputs": [],
   "source": [
    "#SPY -- SPDR S&P 500 ETF Trust\n",
    "#BND -- Vanguard Total Bond Market Index Fund \n",
    "#GLD -- SPDR Gold Shares\n",
    "#QQQ -- Invesco QQQ Trust\n",
    "#VTI -- Vanguard Total Stock Market Index Fund ETF Shares \n",
    "tickers = ['SPY', 'BND', 'GLD', 'QQQ', 'VTI']"
   ]
  },
  {
   "cell_type": "code",
   "execution_count": 5,
   "id": "63ae87bc",
   "metadata": {},
   "outputs": [
    {
     "name": "stderr",
     "output_type": "stream",
     "text": [
      "[*********************100%%**********************]  1 of 1 completed\n",
      "[*********************100%%**********************]  1 of 1 completed\n",
      "[*********************100%%**********************]  1 of 1 completed\n",
      "[*********************100%%**********************]  1 of 1 completed\n",
      "[*********************100%%**********************]  1 of 1 completed"
     ]
    },
    {
     "name": "stdout",
     "output_type": "stream",
     "text": [
      "                   SPY        BND         GLD         QQQ         VTI\n",
      "Date                                                                 \n",
      "2009-05-29   69.809738  50.387756   96.199997   30.926025   35.151825\n",
      "2009-06-01   71.499680  50.047123   95.730003   31.808874   36.024349\n",
      "2009-06-02   71.560081  50.236340   96.360001   31.852587   36.168518\n",
      "2009-06-03   70.654709  50.406025   94.410004   31.756426   35.728451\n",
      "2009-06-04   71.318665  50.092781   96.230003   32.114815   36.085064\n",
      "...                ...        ...         ...         ...         ...\n",
      "2024-05-20  530.059998  71.739998  224.559998  454.910004  262.570007\n",
      "2024-05-21  531.359985  71.889999  224.229996  455.799988  263.109985\n",
      "2024-05-22  529.830017  71.800003  220.110001  455.709991  262.220001\n",
      "2024-05-23  525.960022  71.589996  215.720001  453.660004  259.989990\n",
      "2024-05-24  529.059998  71.675003  215.889893  457.820007  261.600006\n",
      "\n",
      "[3774 rows x 5 columns]\n"
     ]
    },
    {
     "name": "stderr",
     "output_type": "stream",
     "text": [
      "\n"
     ]
    }
   ],
   "source": [
    "adj_close_df = pd.DataFrame()\n",
    "\n",
    "for ticker in tickers:\n",
    "    data = yf.download(ticker, start = startDate, end = endDate)\n",
    "    adj_close_df[ticker] = data['Adj Close']\n",
    "    \n",
    "print(adj_close_df)        #проверяем корректность выгрузки"
   ]
  },
  {
   "cell_type": "markdown",
   "id": "adebf662",
   "metadata": {},
   "source": [
    "<h3>Преобразовываем массив дневных цен в массив дневных доходностей</h3>"
   ]
  },
  {
   "cell_type": "code",
   "execution_count": 6,
   "id": "5673bada",
   "metadata": {},
   "outputs": [
    {
     "name": "stdout",
     "output_type": "stream",
     "text": [
      "                 SPY       BND       GLD       QQQ       VTI\n",
      "Date                                                        \n",
      "2009-06-01  0.023919 -0.006783 -0.004898  0.028147  0.024519\n",
      "2009-06-02  0.000844  0.003774  0.006559  0.001373  0.003994\n",
      "2009-06-03 -0.012733  0.003372 -0.020444 -0.003024 -0.012242\n",
      "2009-06-04  0.009353 -0.006234  0.019094  0.011222  0.009932\n",
      "2009-06-05  0.000211 -0.006797 -0.026536  0.001089 -0.001894\n",
      "...              ...       ...       ...       ...       ...\n",
      "2024-05-20  0.001151 -0.000975  0.004016  0.006949  0.001029\n",
      "2024-05-21  0.002450  0.002089 -0.001471  0.001954  0.002054\n",
      "2024-05-22 -0.002883 -0.001253 -0.018545 -0.000197 -0.003388\n",
      "2024-05-23 -0.007331 -0.002929 -0.020146 -0.004509 -0.008541\n",
      "2024-05-24  0.005877  0.001187  0.000787  0.009128  0.006174\n",
      "\n",
      "[3773 rows x 5 columns]\n"
     ]
    }
   ],
   "source": [
    "log_returns = np.log(adj_close_df/adj_close_df.shift(1))        #рассчитываем натуральный логарифм дневной доходности ценных бумаг\n",
    "log_returns = log_returns.dropna()        #удаляем строки со значениями NaN \n",
    "\n",
    "print(log_returns)        #проверяем массив"
   ]
  },
  {
   "cell_type": "markdown",
   "id": "8a39a704",
   "metadata": {},
   "source": [
    "<h3>Рассчитываем веса для равновесного инвестиционого портфеля</h3>"
   ]
  },
  {
   "cell_type": "code",
   "execution_count": 23,
   "id": "61fbe723",
   "metadata": {},
   "outputs": [
    {
     "name": "stdout",
     "output_type": "stream",
     "text": [
      "[0.2 0.2 0.2 0.2 0.2]\n"
     ]
    }
   ],
   "source": [
    "weights = np.array([1/len(tickers)] * len(tickers))        #формируем массив из одинаковых весов\n",
    "\n",
    "print(weights)        #проверяем веса"
   ]
  },
  {
   "cell_type": "markdown",
   "id": "c90294bb",
   "metadata": {},
   "source": [
    "<h3>Определяем историческую дневную доходность равновесного портфеля</h3>"
   ]
  },
  {
   "cell_type": "code",
   "execution_count": 24,
   "id": "6df3f22b",
   "metadata": {},
   "outputs": [
    {
     "name": "stdout",
     "output_type": "stream",
     "text": [
      "Date\n",
      "2009-06-01    0.012981\n",
      "2009-06-02    0.003309\n",
      "2009-06-03   -0.009014\n",
      "2009-06-04    0.008674\n",
      "2009-06-05   -0.006786\n",
      "                ...   \n",
      "2024-05-20    0.002434\n",
      "2024-05-21    0.001415\n",
      "2024-05-22   -0.005253\n",
      "2024-05-23   -0.008691\n",
      "2024-05-24    0.004630\n",
      "Length: 3773, dtype: float64\n"
     ]
    }
   ],
   "source": [
    "historical_returns = (log_returns * weights).sum(axis = 1)        #доходность портфеля в конкретный день = сумма взвешенных доходностей инструментов за этот день\n",
    "\n",
    "print(historical_returns)        #проверяем результат"
   ]
  },
  {
   "cell_type": "markdown",
   "id": "4b2fa3ef",
   "metadata": {},
   "source": [
    "<h3>Находим доходность портфеля на рассматриваемом горизонте расчета</h3>"
   ]
  },
  {
   "cell_type": "code",
   "execution_count": 25,
   "id": "6a9c8741",
   "metadata": {},
   "outputs": [
    {
     "name": "stdout",
     "output_type": "stream",
     "text": [
      "Date\n",
      "2009-06-05    0.009164\n",
      "2009-06-08   -0.006532\n",
      "2009-06-09   -0.005122\n",
      "2009-06-10    0.001740\n",
      "2009-06-11   -0.004241\n",
      "                ...   \n",
      "2024-05-20    0.020487\n",
      "2024-05-21    0.016459\n",
      "2024-05-22   -0.000633\n",
      "2024-05-23   -0.006851\n",
      "2024-05-24   -0.005465\n",
      "Length: 3769, dtype: float64\n"
     ]
    }
   ],
   "source": [
    "days = 5        #кол-во дней, для которого рассчитывается стоимость под риском\n",
    "\n",
    "range_returns = historical_returns.rolling(window = days).sum()       #методом rolling() мы задаем скользящее окно (window), равное кол-ву дней (days), для которого рассчитывается доходность. Для сборки массива суммируем значения \n",
    "range_returns = range_returns.dropna()        #удаляем строки со значениями NaN \n",
    "\n",
    "print(range_returns)        #проверяем результат -- поскольку указали окно в 5 дней, кол-во значений должно быть на (5-1) меньше, чем кол-во значений дневной доходности"
   ]
  },
  {
   "cell_type": "markdown",
   "id": "0f9f1b2c",
   "metadata": {},
   "source": [
    "<h3>Находим распределение доходности портфеля в долларах</h3>"
   ]
  },
  {
   "cell_type": "code",
   "execution_count": 28,
   "id": "7ccaac72",
   "metadata": {},
   "outputs": [
    {
     "name": "stdout",
     "output_type": "stream",
     "text": [
      "Date\n",
      "2009-06-05     9163.841140\n",
      "2009-06-08    -6532.198539\n",
      "2009-06-09    -5121.598663\n",
      "2009-06-10     1740.122195\n",
      "2009-06-11    -4240.853889\n",
      "                  ...     \n",
      "2024-05-20    20487.256332\n",
      "2024-05-21    16458.704082\n",
      "2024-05-22     -633.294888\n",
      "2024-05-23    -6851.114158\n",
      "2024-05-24    -5464.855566\n",
      "Length: 3769, dtype: float64\n"
     ]
    }
   ],
   "source": [
    "portfolio_value = 1000000        #стоимость портфеля\n",
    "\n",
    "range_returns_dollar = range_returns * portfolio_value\n",
    "\n",
    "print(range_returns_dollar)"
   ]
  },
  {
   "cell_type": "markdown",
   "id": "2f75aa05",
   "metadata": {},
   "source": [
    "<h3>Задаем доверительный интервал и рассчитываем Стоимость под риском (VaR) на заданном временном горизонте</h3>"
   ]
  },
  {
   "cell_type": "code",
   "execution_count": 38,
   "id": "a3b4cbde",
   "metadata": {},
   "outputs": [
    {
     "name": "stdout",
     "output_type": "stream",
     "text": [
      "24076.78685205404\n"
     ]
    }
   ],
   "source": [
    "confidence_interval = 0.95        #доверительный интервал\n",
    "\n",
    "VaR = -np.percentile(range_returns, 100 * (1 - confidence_interval)) * portfolio_value        #рассчитываем VaR\n",
    "\n",
    "print(VaR)        #выводим результат "
   ]
  },
  {
   "cell_type": "markdown",
   "id": "b9757ab1",
   "metadata": {},
   "source": [
    "<h3>Визуализируем результаты оценки VaR историческим методом на график</h3>"
   ]
  },
  {
   "cell_type": "code",
   "execution_count": 39,
   "id": "1825c260",
   "metadata": {},
   "outputs": [
    {
     "data": {
      "image/png": "[encoded data removed]",
      "text/plain": [
       "<Figure size 640x480 with 1 Axes>"
      ]
     },
     "metadata": {},
     "output_type": "display_data"
    }
   ],
   "source": [
    "plt.hist(range_returns_dollar, bins = 50, density = True)\n",
    "plt.xlabel(f'Распределение прибыли / убытков инвестиционного портфеля для горизонта {days} дней')\n",
    "plt.ylabel('Частота')\n",
    "plt.title(label=f'Распределение прибыли / убытков инвестиционного  портфеля на протяжении {days} дней')\n",
    "plt.axvline(-VaR, color='r', linestyle='dashed', linewidth=2, \n",
    "            label = f'Стоимость под рисков (VaR) для {confidence_interval:.0%} доверительного интервала')\n",
    "plt.legend(loc='upper center', bbox_to_anchor=(1.6, 1.0),\n",
    "          frameon=False, shadow=False, ncol=5)\n",
    "plt.show()"
   ]
  },
  {
   "cell_type": "code",
   "execution_count": null,
   "id": "35b558e4",
   "metadata": {},
   "outputs": [],
   "source": []
  }
 ],
 "metadata": {
  "kernelspec": {
   "display_name": "Python 3 (ipykernel)",
   "language": "python",
   "name": "python3"
  },
  "language_info": {
   "codemirror_mode": {
    "name": "ipython",
    "version": 3
   },
   "file_extension": ".py",
   "mimetype": "text/x-python",
   "name": "python",
   "nbconvert_exporter": "python",
   "pygments_lexer": "ipython3",
   "version": "3.11.7"
  }
 },
 "nbformat": 4,
 "nbformat_minor": 5
}

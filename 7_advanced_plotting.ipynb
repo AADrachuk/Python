{
 "cells": [
  {
   "cell_type": "markdown",
   "metadata": {},
   "source": [
    "# Advanced Plotting: Beyond matplotlib"
   ]
  },
  {
   "cell_type": "markdown",
   "metadata": {},
   "source": [
    "Alright, so our prior charts were plotted using `matplotlib` which helps us see the data, but the charts don't look amazing and aren't interactive at all. What other options do we have? [seaborn](https://seaborn.pydata.org/index.html) is a wrapper the top of `matplotlib` that makes much prettier plots (with a ton of statistical plotting capabilities) and [plotly](https://plot.ly/) is a great cross-platform plotting liberary that we can easil set up. Below we'll use `seaborn` and `plotly` to make some pretty pictures. "
   ]
  },
  {
   "cell_type": "markdown",
   "metadata": {},
   "source": [
    "First, let's import some libraries."
   ]
  },
  {
   "cell_type": "code",
   "execution_count": 1,
   "metadata": {},
   "outputs": [],
   "source": [
    "import pandas as pd\n",
    "import datetime as dt\n",
    "import seaborn as sns\n",
    "import numpy as np\n",
    "import matplotlib.pyplot as plt\n",
    "import datetime as dt\n",
    "\n",
    "%matplotlib inline"
   ]
  },
  {
   "cell_type": "markdown",
   "metadata": {},
   "source": [
    "Since we don't have access to some of the data that we do within JPM, we'll have to generate some data to plot. In this case, we're going to generate an approximation of Russell2k implied volatility and HYG (iTraxx High Yield Bond ETF) prices."
   ]
  },
  {
   "cell_type": "code",
   "execution_count": 2,
   "metadata": {},
   "outputs": [],
   "source": [
    "vols = [ 0.3, 0.06 ]\n",
    "dailyVols = vols / np.sqrt( 252 )\n",
    "corr = -0.4\n",
    "covars = [ \n",
    "    [ dailyVols[ 0 ] ** 2, dailyVols[ 0 ] * dailyVols[ 1 ] * corr ],\n",
    "    [ dailyVols[ 0 ] * dailyVols[ 1 ] * corr, dailyVols[ 1 ] ** 2 ]\n",
    "]\n",
    "randomSeries = np.random.multivariate_normal( ( 0.001, 0 ), covars, 500 ).T"
   ]
  },
  {
   "cell_type": "code",
   "execution_count": 3,
   "metadata": {},
   "outputs": [
    {
     "data": {
      "text/plain": [
       "array([[ 2.40802572e-02, -2.53462124e-02, -1.86681376e-02,\n",
       "        -4.38788430e-02, -1.15679681e-02,  1.23540506e-03,\n",
       "        -2.49359223e-02, -1.26073217e-03,  1.49226529e-02,\n",
       "         1.06340379e-02, -4.66490453e-03,  2.19732215e-02,\n",
       "         2.25497248e-03, -3.71267294e-02, -2.57040922e-02,\n",
       "        -3.88100656e-02,  1.29415588e-02,  1.74642392e-02,\n",
       "         3.76014817e-02, -1.73157599e-02,  4.86531709e-02,\n",
       "         2.01345019e-03,  9.76835457e-03,  6.02210059e-03,\n",
       "         1.76115090e-02, -3.55242854e-02,  8.60568884e-03,\n",
       "        -1.85656782e-03,  2.27472379e-02, -1.84596134e-03,\n",
       "        -5.32599672e-03,  2.59531203e-02, -1.39947691e-02,\n",
       "         1.16551837e-02,  2.88796628e-02,  9.05020619e-03,\n",
       "         1.96931995e-02,  2.09572210e-02, -5.77178883e-03,\n",
       "        -2.48208493e-02, -1.66152576e-03,  2.81057722e-02,\n",
       "        -5.38474737e-03, -1.01765064e-02, -5.97084164e-03,\n",
       "         7.04662783e-03, -8.27279206e-03, -1.01719323e-02,\n",
       "         1.87707321e-02, -3.15394866e-02, -2.44921044e-03,\n",
       "         6.25405071e-03, -8.36028139e-03,  3.42701655e-03,\n",
       "        -1.02526659e-03,  1.85723471e-02,  4.74482452e-03,\n",
       "         2.70026800e-02,  6.27882094e-03, -3.38073525e-02,\n",
       "        -2.23198016e-02, -7.78048341e-03, -2.74684836e-02,\n",
       "         1.19314394e-03, -1.07022626e-04, -8.26515888e-03,\n",
       "        -1.47004263e-03, -1.34658454e-02,  8.91571377e-03,\n",
       "        -1.93148561e-02,  3.70445846e-02,  2.29615250e-02,\n",
       "        -8.26711256e-03, -1.25842444e-02,  6.27060202e-03,\n",
       "        -4.52451702e-03,  1.33730331e-02,  3.05339207e-02,\n",
       "         3.57994179e-03,  6.59747126e-03,  1.35075830e-02,\n",
       "         1.16120056e-02,  2.10525684e-02,  2.52342199e-02,\n",
       "         3.99066449e-03, -2.39848899e-02,  3.24837303e-02,\n",
       "         1.14363520e-02,  1.71003122e-02, -1.48536585e-03,\n",
       "         2.85384869e-02, -9.77643788e-03, -7.24771112e-03,\n",
       "         1.41704372e-02, -1.06844318e-02, -9.25531611e-04,\n",
       "         4.17039349e-02, -7.67150111e-03, -2.41638026e-02,\n",
       "         7.41694500e-03, -2.65327290e-02,  1.76128552e-02,\n",
       "        -2.73366069e-03, -1.90432689e-02, -3.23579615e-03,\n",
       "        -3.06763562e-02,  1.37128941e-03, -3.21743403e-03,\n",
       "         3.39122154e-02,  6.97831278e-03,  3.58374981e-02,\n",
       "         3.28662787e-02, -8.28739704e-03, -1.51941357e-02,\n",
       "        -1.14674038e-02,  3.12703397e-02,  4.78765039e-02,\n",
       "         8.16053327e-03,  2.04005690e-02,  1.58676688e-02,\n",
       "        -2.37557428e-02, -6.55594908e-03, -2.98601280e-02,\n",
       "         1.26109188e-02, -5.13000067e-03, -7.77990894e-03,\n",
       "         4.56923086e-03, -2.21701831e-02,  1.66817286e-02,\n",
       "         4.53012086e-02, -1.93891123e-02, -2.31264930e-02,\n",
       "         2.58442965e-02,  2.70595890e-03,  1.41785472e-02,\n",
       "         2.01904391e-02,  1.27929444e-02,  1.78573289e-02,\n",
       "        -2.29239507e-02, -2.10214869e-02,  1.69845149e-02,\n",
       "        -1.50232467e-02,  1.88060416e-02, -3.12391965e-02,\n",
       "        -4.78423197e-03,  2.97426227e-02, -4.93893463e-03,\n",
       "        -3.48133599e-03,  2.30928377e-02, -1.51614597e-02,\n",
       "         4.94182524e-04, -1.22049413e-02,  1.53513769e-02,\n",
       "        -4.64046038e-03, -2.48929113e-02, -9.88397586e-03,\n",
       "        -5.18319190e-03,  2.40489790e-02, -2.82342778e-02,\n",
       "        -5.97819454e-03, -2.04272469e-03, -5.58267171e-03,\n",
       "         2.53016463e-02,  1.75710379e-02,  2.63600611e-03,\n",
       "        -9.32882678e-03,  3.03352535e-02,  1.18329491e-02,\n",
       "         1.84075658e-02, -1.50471532e-02,  2.57980982e-02,\n",
       "         3.43192401e-02,  3.55739074e-02, -3.64001054e-02,\n",
       "         1.61891668e-02, -3.26455674e-04, -8.24316386e-03,\n",
       "         4.89485819e-03,  2.66720102e-03,  6.07142339e-04,\n",
       "        -4.34157929e-03, -1.05558542e-03,  1.54797557e-02,\n",
       "         4.35575626e-02, -3.32850886e-02,  9.59992625e-03,\n",
       "        -3.18250312e-02,  1.60630387e-02, -1.61934134e-03,\n",
       "        -2.32200232e-02, -2.28369924e-02,  6.14855718e-04,\n",
       "         1.09004041e-02,  2.15588460e-02,  1.54020864e-02,\n",
       "        -1.56863893e-02, -3.06589254e-02, -3.19001505e-02,\n",
       "         1.62972912e-02,  1.68854200e-02,  2.66833240e-03,\n",
       "         1.31653806e-02,  2.29911297e-02,  3.34260542e-02,\n",
       "         4.62105157e-03,  2.60777299e-03,  2.51725553e-02,\n",
       "        -1.37282536e-03,  7.84190804e-03,  3.99502699e-03,\n",
       "         4.34315348e-02, -7.77516814e-03,  1.63654873e-02,\n",
       "        -1.06970804e-02, -3.12533994e-02, -4.08894207e-03,\n",
       "         2.36806568e-03, -6.22308690e-03,  2.13732786e-02,\n",
       "         2.97019372e-02, -4.09447523e-02, -3.59320246e-02,\n",
       "         9.20569634e-05, -2.46654334e-04,  1.00175689e-03,\n",
       "        -1.65834034e-02,  2.70664402e-02,  2.57634350e-03,\n",
       "        -1.52731282e-02,  1.69448929e-03, -2.08550324e-02,\n",
       "         1.49820797e-02, -1.34083991e-02, -1.12721797e-02,\n",
       "        -1.11174017e-02,  1.15780824e-02,  3.86948607e-02,\n",
       "         2.99956317e-02, -2.65750488e-02,  1.37565544e-02,\n",
       "         4.63166555e-03, -5.65036663e-03,  1.31296341e-02,\n",
       "         1.90957376e-02, -2.12854697e-03,  1.13632740e-04,\n",
       "         2.69605545e-02, -3.43337692e-02, -2.24158260e-02,\n",
       "         2.50765193e-03,  6.72008942e-03,  4.85572183e-02,\n",
       "         1.56055745e-02,  9.59257583e-03, -3.77599124e-02,\n",
       "        -1.23448919e-03,  2.72767783e-02, -4.48607700e-03,\n",
       "        -1.08094449e-02,  2.12138524e-03, -2.68620394e-02,\n",
       "         9.99349099e-03,  2.17133621e-02,  4.09105646e-02,\n",
       "        -8.43496327e-03,  1.70476109e-02,  1.58508793e-04,\n",
       "         4.16642438e-02, -2.66762952e-02, -2.70636443e-02,\n",
       "         3.62793852e-03, -1.82170754e-03,  2.01061508e-02,\n",
       "        -2.41183633e-02, -1.79100598e-02,  2.74038787e-02,\n",
       "        -1.12695216e-02,  3.37971849e-03, -9.69774824e-03,\n",
       "         2.23926984e-03, -1.44723007e-02, -3.31626887e-02,\n",
       "         2.31450789e-02,  1.31592506e-02,  5.69156320e-03,\n",
       "         8.42037618e-03,  2.38164038e-02,  2.44629770e-02,\n",
       "        -2.20365165e-02,  8.01498288e-03, -2.17903386e-02,\n",
       "         1.24054361e-02,  4.64918406e-02,  4.91740073e-03,\n",
       "         2.85309168e-02, -3.14045425e-02, -1.99607083e-02,\n",
       "         2.45082095e-02,  4.28263108e-02, -3.82871053e-03,\n",
       "         9.63354752e-03,  2.98841214e-02, -1.39347974e-02,\n",
       "         1.22935636e-02, -2.94731571e-02,  2.42203369e-02,\n",
       "        -7.75386608e-04,  2.79249681e-02, -5.67988395e-03,\n",
       "        -1.79008598e-02,  2.58760040e-02,  2.17516825e-02,\n",
       "        -2.68068752e-02, -6.43025031e-03, -4.69822432e-03,\n",
       "        -1.51831180e-02, -2.12278251e-02, -4.66401676e-02,\n",
       "        -4.73963590e-03, -5.31452175e-03, -7.32282900e-03,\n",
       "         3.63451962e-03,  2.39989183e-02,  8.67603671e-04,\n",
       "        -1.10128127e-02, -3.29741038e-02, -9.80825601e-03,\n",
       "        -3.48141845e-02,  1.27765233e-02, -2.34739383e-03,\n",
       "         3.81603319e-02, -4.17089287e-02,  2.13850138e-02,\n",
       "        -9.19455430e-03, -1.26112183e-02, -3.39886246e-03,\n",
       "         1.65796471e-02,  2.87348281e-02, -3.41096410e-02,\n",
       "         6.06297241e-04,  4.36896985e-03, -6.13730702e-02,\n",
       "        -3.07508310e-03, -5.00041877e-03, -2.58055936e-02,\n",
       "         1.39319387e-02, -1.97492048e-02, -9.95341477e-03,\n",
       "        -3.34841694e-02,  1.49696725e-02, -2.74458143e-03,\n",
       "         5.17885828e-03,  6.39558240e-03, -4.24706606e-03,\n",
       "         3.56448624e-02, -7.90519583e-03, -1.85258356e-02,\n",
       "        -1.47149394e-02,  9.66180249e-03,  1.18962569e-02,\n",
       "        -3.55575772e-03,  4.30310818e-02, -5.38580457e-03,\n",
       "        -2.73797458e-02,  3.57805028e-03, -7.02485012e-03,\n",
       "         8.45680828e-03, -2.42610046e-04, -1.37821572e-02,\n",
       "         4.31119236e-02, -6.77156737e-03, -1.58606255e-02,\n",
       "         1.63419275e-02, -1.18806360e-02, -4.10195877e-03,\n",
       "        -1.81824686e-02, -2.89152356e-02, -2.78539727e-03,\n",
       "        -2.88162981e-02,  2.27145009e-02,  1.65556178e-02,\n",
       "         1.15422834e-02,  5.29272079e-03,  1.39042491e-02,\n",
       "        -1.80237317e-02,  2.48947219e-02,  1.57523732e-02,\n",
       "         1.40695226e-02, -2.18718896e-02, -1.45685940e-03,\n",
       "        -3.90279142e-02,  1.68619119e-02, -5.96431364e-03,\n",
       "        -1.22254490e-02, -1.89327143e-03,  3.07987441e-02,\n",
       "        -1.99399451e-03,  9.96465682e-03,  2.11482938e-03,\n",
       "         1.74331705e-02,  8.39920796e-03,  1.12222042e-02,\n",
       "        -2.33212306e-02,  2.16263962e-03, -1.85027510e-02,\n",
       "         1.98401111e-02,  8.66484077e-03, -9.05639969e-03,\n",
       "        -2.58677103e-02,  5.17490695e-03,  1.78993557e-02,\n",
       "         4.17404949e-02,  9.41393900e-04,  2.47657962e-02,\n",
       "        -1.34897222e-02,  2.13062476e-02,  3.21694834e-03,\n",
       "        -1.08711740e-02,  3.47856470e-02, -1.42145922e-02,\n",
       "         1.24312582e-02,  1.42608849e-02,  2.45791585e-02,\n",
       "         7.18824637e-03,  9.35533596e-03,  1.78914579e-02,\n",
       "         2.10633807e-02,  2.47721780e-02, -5.86113323e-04,\n",
       "        -9.94032150e-03,  4.10909028e-02, -1.41499720e-03,\n",
       "         1.93450968e-02,  1.20511010e-03,  2.15262906e-02,\n",
       "        -2.50237586e-02, -2.90477879e-02,  4.20865666e-03,\n",
       "        -9.35098016e-03,  4.34636793e-04, -4.42171598e-03,\n",
       "         2.78026901e-02,  1.40456708e-02, -6.77822609e-03,\n",
       "         1.58832774e-02, -2.28276413e-02, -3.16891894e-02,\n",
       "        -2.35845720e-02,  9.62652216e-03, -2.24797189e-03,\n",
       "         5.71392282e-03,  1.19219865e-02,  3.56796333e-02,\n",
       "        -2.17068996e-02,  3.20658577e-02, -1.08887324e-02,\n",
       "         2.34720681e-02,  3.94762521e-03, -8.20826064e-05,\n",
       "         2.11006143e-02, -5.57677180e-03, -2.83712658e-02,\n",
       "         1.33115019e-02,  7.69443317e-03, -1.92507832e-02,\n",
       "         2.46421166e-02,  3.03509805e-03, -1.06810937e-02,\n",
       "         1.30447795e-02, -1.02894033e-02, -1.11917233e-02,\n",
       "         1.91995430e-02,  9.51873585e-03, -8.54829088e-03,\n",
       "        -9.40484229e-03, -3.98777577e-02, -1.91375985e-02,\n",
       "         1.57822271e-05,  3.91815736e-04,  1.78171255e-02,\n",
       "         7.01048598e-03, -1.15217146e-02,  2.54085209e-02,\n",
       "         3.31631523e-02,  3.03411669e-02,  2.12688153e-02,\n",
       "         7.85715026e-03, -3.24674878e-03,  3.83661016e-02,\n",
       "         3.10426136e-02,  6.96396161e-03,  5.61523385e-03,\n",
       "         3.06311214e-02,  1.60461012e-02,  5.72499830e-04,\n",
       "         3.55696633e-02,  6.01790033e-03,  2.08264918e-02,\n",
       "        -6.46469241e-03, -5.97756916e-03],\n",
       "       [-4.50136615e-03,  5.37773682e-03, -2.26024882e-03,\n",
       "         1.92907376e-03,  1.56972652e-03,  4.57787979e-03,\n",
       "         2.89407590e-03,  1.09586465e-03,  2.13617786e-03,\n",
       "        -5.92120124e-03, -2.37057429e-03, -1.29171324e-03,\n",
       "         1.20655471e-03, -1.28381107e-03,  4.22888134e-03,\n",
       "         5.99410036e-03,  3.92617257e-03, -8.91607432e-03,\n",
       "        -8.79612629e-04,  2.65088516e-03, -7.30448012e-03,\n",
       "        -8.45443400e-03, -1.87797908e-04, -9.11879061e-03,\n",
       "         2.14608405e-03,  4.06485015e-03, -7.60769783e-03,\n",
       "        -5.46838719e-04,  1.52712460e-04, -8.98371719e-04,\n",
       "         2.23470767e-03, -5.98565536e-03, -3.53679675e-03,\n",
       "         1.72341427e-03, -7.60108900e-03, -3.84444534e-03,\n",
       "         3.69907540e-03,  4.42084977e-04, -8.30589218e-04,\n",
       "        -3.25401376e-03,  1.61415151e-04, -5.52978946e-03,\n",
       "         1.31353605e-03,  2.09674217e-03,  3.52156119e-03,\n",
       "         7.02249121e-04,  2.02624780e-03,  4.09695769e-03,\n",
       "        -1.41269666e-04,  5.81734021e-03, -1.30463184e-03,\n",
       "         2.45001544e-03, -8.64075935e-04, -5.02911201e-03,\n",
       "         3.55624014e-03, -4.94356006e-03,  3.97806317e-03,\n",
       "        -1.69508971e-03, -2.06907955e-03, -2.84799319e-03,\n",
       "        -3.46888705e-04,  2.47725647e-03,  4.65229236e-03,\n",
       "         4.93687883e-04,  4.25927001e-03, -2.42216334e-03,\n",
       "         4.82139780e-03, -4.33387167e-03,  1.44696578e-03,\n",
       "         4.98026891e-03, -1.71281997e-03,  7.04575177e-03,\n",
       "         1.26258218e-04,  2.43310688e-03, -1.84709169e-03,\n",
       "         1.62965749e-03, -7.22176774e-03, -4.08021292e-03,\n",
       "        -2.01212163e-03,  8.37832962e-03, -3.66352250e-03,\n",
       "         1.35412755e-04, -6.31936241e-03, -1.95869157e-04,\n",
       "        -4.96928284e-04,  2.64193855e-03, -2.45876291e-03,\n",
       "        -6.41360505e-03, -5.06694958e-03,  1.68035038e-03,\n",
       "        -5.30757305e-04,  4.89489034e-03,  2.11462159e-03,\n",
       "         1.72884369e-04, -1.04800407e-03,  6.81290642e-03,\n",
       "        -5.56061245e-03,  2.61245603e-03,  7.82967625e-04,\n",
       "         3.22473038e-03,  3.42262308e-03, -5.83634654e-03,\n",
       "         1.96062593e-03, -1.49281877e-03,  5.33698751e-03,\n",
       "         4.32151559e-03, -3.16285588e-03,  6.05491177e-04,\n",
       "        -3.75482388e-03, -2.55345357e-05,  1.13360300e-03,\n",
       "        -1.48610395e-03,  4.63014151e-03, -3.33447643e-03,\n",
       "         2.48141278e-03, -5.98511686e-03, -5.15085763e-03,\n",
       "        -1.25537092e-02, -2.64958691e-03,  2.61357788e-03,\n",
       "        -4.42593074e-03,  5.77101551e-03,  1.89475375e-03,\n",
       "         2.22224760e-03,  6.63509443e-03, -4.11667799e-03,\n",
       "         1.38495906e-03,  4.50335598e-03, -3.78420215e-03,\n",
       "        -2.04518188e-03, -3.84951597e-03,  6.86048545e-03,\n",
       "        -5.67967173e-03,  5.23128918e-03, -4.68690291e-03,\n",
       "         1.93386371e-03,  3.44550039e-03,  2.05059891e-03,\n",
       "        -3.80256055e-03,  7.32306797e-04, -5.70391143e-04,\n",
       "         4.76516260e-03, -2.64279291e-03, -1.40134395e-04,\n",
       "        -6.75647279e-03, -3.77972861e-03,  3.29678229e-03,\n",
       "         3.60197117e-04, -2.09608805e-03, -2.20594025e-03,\n",
       "         1.32381780e-03,  1.81819926e-03,  3.00198949e-03,\n",
       "        -4.60794780e-03, -2.15848691e-03, -1.88570174e-03,\n",
       "        -2.58620734e-05, -5.71591726e-04,  9.05779047e-04,\n",
       "        -4.51469336e-03, -6.22873283e-04, -1.49460987e-03,\n",
       "         4.28617634e-03,  4.38132146e-03, -7.55033192e-05,\n",
       "        -2.30342493e-03, -4.93036797e-04, -2.71642569e-03,\n",
       "         1.27840080e-03, -1.78178742e-03, -6.79239513e-03,\n",
       "         8.90012245e-04, -5.04490786e-03,  8.21284152e-03,\n",
       "        -4.49341789e-03,  1.01131540e-02, -7.27193575e-03,\n",
       "        -8.44521003e-04, -3.59236842e-04,  5.20786551e-03,\n",
       "         7.49574818e-03, -3.07492415e-03, -8.11107076e-03,\n",
       "        -1.31707350e-04,  4.96188427e-03, -7.54682713e-04,\n",
       "         1.50009287e-03, -3.51673090e-03, -7.30768854e-04,\n",
       "         8.42004220e-04, -1.63022892e-03,  1.71909745e-04,\n",
       "        -2.28471573e-03, -5.80373861e-04, -2.11816661e-03,\n",
       "         5.87548552e-03,  5.47484109e-03, -2.93828233e-03,\n",
       "        -2.82838673e-03, -2.02485198e-03,  4.76422664e-03,\n",
       "         1.15190425e-04, -3.06102513e-03, -9.05360034e-03,\n",
       "        -2.02348686e-03,  4.85186987e-03,  2.28344791e-03,\n",
       "         9.99799256e-04,  1.92309744e-04,  9.08816933e-04,\n",
       "        -1.71455501e-04,  4.54542515e-04,  1.38501121e-03,\n",
       "        -2.99678120e-03,  3.04327114e-03, -4.15443151e-03,\n",
       "        -1.01538596e-03, -1.54712709e-03,  5.48971170e-03,\n",
       "        -2.43735710e-03,  2.09855328e-03,  2.59552225e-03,\n",
       "        -6.05924970e-03, -9.45340580e-04, -1.47111919e-04,\n",
       "        -1.95834728e-03, -3.05536193e-03, -5.34940427e-03,\n",
       "        -2.93754876e-04, -6.19570672e-03,  1.36302400e-03,\n",
       "        -5.32314469e-03,  2.47548216e-03, -1.80493843e-03,\n",
       "         2.80942964e-04,  5.15698073e-03, -3.32559566e-04,\n",
       "        -6.09333798e-03,  4.33134677e-03,  3.93024653e-03,\n",
       "        -1.09213552e-03,  2.90920862e-03, -3.57767142e-03,\n",
       "         9.60361164e-04,  2.83477680e-04, -2.41532714e-03,\n",
       "        -1.74761447e-03,  3.34127706e-03,  9.59670081e-04,\n",
       "        -1.05725536e-03,  3.55860654e-03, -5.59615471e-03,\n",
       "        -6.29863762e-03, -3.77160921e-03,  7.03070620e-03,\n",
       "         7.09709311e-05, -6.55465196e-03,  4.07311123e-03,\n",
       "         3.32705617e-03, -3.28022975e-03, -3.88545116e-04,\n",
       "        -4.22950489e-04, -4.06251927e-03, -4.43871713e-03,\n",
       "         1.49717975e-03, -5.41925822e-03,  7.50306264e-04,\n",
       "        -7.67458447e-03,  3.39048273e-03,  3.15367909e-03,\n",
       "        -3.21129788e-03,  4.83996496e-03,  2.88469386e-03,\n",
       "         3.60856888e-03,  1.29234879e-03, -3.77394809e-03,\n",
       "        -3.11290353e-03, -2.79410862e-03,  1.14523004e-02,\n",
       "         2.30283769e-03,  1.43228424e-03, -7.27856688e-03,\n",
       "         3.35501942e-03, -1.49064554e-03, -1.22826269e-03,\n",
       "         4.87749764e-03,  9.79523704e-05, -3.70468535e-03,\n",
       "         3.00471877e-03, -3.70376602e-03,  1.11742335e-02,\n",
       "         1.55449967e-03, -5.65865157e-03,  1.25113450e-03,\n",
       "         2.03036115e-03,  2.33864112e-03, -1.25883277e-03,\n",
       "        -1.37128660e-03, -5.54419295e-04, -1.85065964e-03,\n",
       "        -2.28952909e-03,  2.59195236e-03, -2.95206329e-03,\n",
       "        -4.83921067e-04,  1.21377171e-04, -1.46408622e-03,\n",
       "        -4.86146303e-03, -2.15295525e-03,  3.83000430e-03,\n",
       "        -9.29688352e-04, -1.16895453e-03,  2.05893106e-03,\n",
       "        -1.31350725e-03,  3.83718203e-03,  1.65362980e-03,\n",
       "         1.59965620e-03,  6.27411368e-04,  2.29153004e-03,\n",
       "         2.06897783e-03,  5.32902849e-04, -1.41021840e-03,\n",
       "        -4.96487183e-04,  4.65719553e-05, -3.30245416e-03,\n",
       "         3.47232225e-04,  3.11969228e-03, -4.77856011e-05,\n",
       "        -1.39764281e-03, -2.89269971e-03,  2.75149801e-03,\n",
       "        -3.38857486e-03,  2.60269021e-03, -3.66721857e-03,\n",
       "        -3.75876439e-03,  1.50663887e-04,  3.23081133e-03,\n",
       "         1.18135395e-03, -1.06811605e-03,  8.11898297e-04,\n",
       "         3.01807667e-03, -5.53225496e-04,  6.51719818e-03,\n",
       "         2.59377817e-03, -6.73553997e-04,  8.60772347e-03,\n",
       "         2.24510697e-03,  1.00034322e-03,  3.47346333e-03,\n",
       "         6.42270233e-03, -1.10895898e-03,  1.83044899e-03,\n",
       "        -2.78708096e-03,  5.71267114e-04, -6.10838079e-04,\n",
       "        -3.01242072e-03,  4.80498283e-03,  1.05740877e-02,\n",
       "         8.57344699e-04, -1.35665075e-03,  4.36461140e-03,\n",
       "         3.42529933e-04, -5.29650686e-03, -7.17899876e-05,\n",
       "         1.14582169e-03, -1.86542547e-03, -2.52806504e-03,\n",
       "         1.82874311e-03, -2.18604367e-03,  3.35280119e-03,\n",
       "        -5.57929489e-03,  7.95813826e-04, -9.39362269e-04,\n",
       "        -4.55817199e-03,  1.04594143e-03,  2.05242054e-03,\n",
       "        -1.05042307e-03,  3.22636604e-03, -1.45549005e-03,\n",
       "         1.13863453e-03, -7.84210861e-03, -2.90655773e-03,\n",
       "        -3.07701274e-03,  3.15497285e-03, -2.32750757e-03,\n",
       "        -5.77862558e-04, -3.65059551e-03, -4.53744952e-03,\n",
       "        -4.18669595e-03,  8.55965610e-03, -2.28337507e-03,\n",
       "        -1.28487569e-04,  4.60700798e-04, -1.99582128e-03,\n",
       "        -6.19330048e-04, -5.08259416e-03, -1.40410335e-03,\n",
       "        -1.84274327e-03,  1.89532634e-03, -3.83408220e-04,\n",
       "        -4.21904211e-03,  2.63497245e-03, -2.45744215e-03,\n",
       "         6.19651922e-03, -4.33372107e-03, -9.00704099e-03,\n",
       "         2.50475558e-03,  3.67821781e-03,  1.39267263e-03,\n",
       "        -2.06873194e-04, -2.59271370e-03,  3.42919015e-03,\n",
       "        -5.71939276e-03,  1.01817870e-03,  2.84019199e-03,\n",
       "         9.41071354e-04, -1.32945455e-03, -1.27302409e-03,\n",
       "         3.77308280e-04,  2.47713001e-03, -3.54328149e-03,\n",
       "        -2.46733048e-03,  4.47415492e-03,  6.09325455e-04,\n",
       "         1.87680794e-03,  9.41835156e-03, -4.32188117e-04,\n",
       "         9.03900839e-04, -7.91999393e-03, -1.56861622e-03,\n",
       "         5.81684500e-03, -2.62384507e-03,  3.72802938e-03,\n",
       "         2.32982284e-03, -1.23888885e-03, -1.87728125e-05,\n",
       "         5.44598357e-04,  1.96588027e-03,  6.77621732e-04,\n",
       "        -4.80030833e-04, -4.79665872e-03, -1.62887534e-03,\n",
       "         3.83699571e-04, -3.03709995e-03,  4.70987040e-03,\n",
       "        -2.40157095e-03,  6.14443230e-03,  2.89889433e-03,\n",
       "         2.22488343e-03, -7.02908640e-04, -9.65860880e-04,\n",
       "         1.01851499e-03, -4.84635038e-03, -7.37398688e-03,\n",
       "         6.31268799e-03,  1.06599155e-04,  3.65101731e-03,\n",
       "        -1.90151054e-03,  6.67615614e-04,  2.14653636e-03,\n",
       "         9.00540631e-04, -4.08430303e-03,  3.07959737e-03,\n",
       "        -2.59664674e-04,  1.37507588e-03,  3.90307050e-03,\n",
       "         2.54418828e-03, -8.40943569e-04,  1.83895189e-03,\n",
       "        -3.35330079e-03, -2.60727543e-03,  1.93465318e-03,\n",
       "        -6.15073974e-03, -3.88994627e-03,  7.52340392e-04,\n",
       "         4.29071747e-03, -3.58883146e-03, -4.94363851e-03,\n",
       "         8.95608610e-04, -2.31689071e-03, -3.07651078e-03,\n",
       "         2.03301972e-03,  6.85124643e-03, -5.64921460e-03,\n",
       "         7.78149534e-04,  2.70718500e-03,  3.93121493e-03,\n",
       "        -3.52408758e-03,  4.40942646e-03, -6.69340188e-03,\n",
       "        -1.29421899e-03, -6.90106729e-04, -4.15384421e-03,\n",
       "        -1.66646624e-03, -6.66605969e-03, -5.36543634e-03,\n",
       "        -3.38248774e-03, -2.18865837e-03, -7.44744432e-03,\n",
       "         4.68881432e-05, -2.44382710e-03]])"
      ]
     },
     "execution_count": 3,
     "metadata": {},
     "output_type": "execute_result"
    }
   ],
   "source": [
    "randomSeries"
   ]
  },
  {
   "cell_type": "markdown",
   "metadata": {},
   "source": [
    "We've got two return series, but we need to convert them to a time series for what they're meant to represent. "
   ]
  },
  {
   "cell_type": "code",
   "execution_count": 4,
   "metadata": {},
   "outputs": [],
   "source": [
    "rtyVol = 0.2 * ( 1 + randomSeries[ 0 ] ).cumprod()\n",
    "hygPrice = 80 * ( 1 + randomSeries[ 1 ] ).cumprod()"
   ]
  },
  {
   "cell_type": "markdown",
   "metadata": {},
   "source": [
    "Let's see if they make sense... Often the easiest way to do that is to plot them. Many of the plotting libraries set up to operate / plot a `DataFrame` natively."
   ]
  },
  {
   "cell_type": "code",
   "execution_count": 5,
   "metadata": {},
   "outputs": [],
   "source": [
    "df = pd.DataFrame(np.array([rtyVol, hygPrice]).T, columns=[\"RTY.3m.Proxy.Implied.Vol\", \"HYG.spot\"])"
   ]
  },
  {
   "cell_type": "code",
   "execution_count": 6,
   "metadata": {},
   "outputs": [
    {
     "data": {
      "text/html": [
       "<div>\n",
       "<style scoped>\n",
       "    .dataframe tbody tr th:only-of-type {\n",
       "        vertical-align: middle;\n",
       "    }\n",
       "\n",
       "    .dataframe tbody tr th {\n",
       "        vertical-align: top;\n",
       "    }\n",
       "\n",
       "    .dataframe thead th {\n",
       "        text-align: right;\n",
       "    }\n",
       "</style>\n",
       "<table border=\"1\" class=\"dataframe\">\n",
       "  <thead>\n",
       "    <tr style=\"text-align: right;\">\n",
       "      <th></th>\n",
       "      <th>RTY.3m.Proxy.Implied.Vol</th>\n",
       "      <th>HYG.spot</th>\n",
       "    </tr>\n",
       "  </thead>\n",
       "  <tbody>\n",
       "    <tr>\n",
       "      <th>0</th>\n",
       "      <td>0.204816</td>\n",
       "      <td>79.639891</td>\n",
       "    </tr>\n",
       "    <tr>\n",
       "      <th>1</th>\n",
       "      <td>0.199625</td>\n",
       "      <td>80.068173</td>\n",
       "    </tr>\n",
       "    <tr>\n",
       "      <th>2</th>\n",
       "      <td>0.195898</td>\n",
       "      <td>79.887199</td>\n",
       "    </tr>\n",
       "    <tr>\n",
       "      <th>3</th>\n",
       "      <td>0.187302</td>\n",
       "      <td>80.041307</td>\n",
       "    </tr>\n",
       "    <tr>\n",
       "      <th>4</th>\n",
       "      <td>0.185136</td>\n",
       "      <td>80.166950</td>\n",
       "    </tr>\n",
       "  </tbody>\n",
       "</table>\n",
       "</div>"
      ],
      "text/plain": [
       "   RTY.3m.Proxy.Implied.Vol   HYG.spot\n",
       "0                  0.204816  79.639891\n",
       "1                  0.199625  80.068173\n",
       "2                  0.195898  79.887199\n",
       "3                  0.187302  80.041307\n",
       "4                  0.185136  80.166950"
      ]
     },
     "execution_count": 6,
     "metadata": {},
     "output_type": "execute_result"
    }
   ],
   "source": [
    "df.head()"
   ]
  },
  {
   "cell_type": "code",
   "execution_count": 7,
   "metadata": {},
   "outputs": [
    {
     "data": {
      "text/plain": [
       "<Axes: >"
      ]
     },
     "execution_count": 7,
     "metadata": {},
     "output_type": "execute_result"
    },
    {
     "data": {
      "image/png": "[encoded data removed]",
      "text/plain": [
       "<Figure size 640x480 with 1 Axes>"
      ]
     },
     "metadata": {},
     "output_type": "display_data"
    }
   ],
   "source": [
    "df.plot()"
   ]
  },
  {
   "cell_type": "markdown",
   "metadata": {},
   "source": [
    "So... problem #1, these two series not similar magnitudes. We need to plot these on difference axes and while we're at it let's make it look a little better. "
   ]
  },
  {
   "cell_type": "code",
   "execution_count": 8,
   "metadata": {},
   "outputs": [
    {
     "ename": "OSError",
     "evalue": "'seaborn' is not a valid package style, path of style file, URL of style file, or library style name (library styles are listed in `style.available`)",
     "output_type": "error",
     "traceback": [
      "\u001b[0;31m---------------------------------------------------------------------------\u001b[0m",
      "\u001b[0;31mFileNotFoundError\u001b[0m                         Traceback (most recent call last)",
      "File \u001b[0;32m/opt/anaconda3/lib/python3.11/site-packages/matplotlib/style/core.py:137\u001b[0m, in \u001b[0;36muse\u001b[0;34m(style)\u001b[0m\n\u001b[1;32m    136\u001b[0m \u001b[38;5;28;01mtry\u001b[39;00m:\n\u001b[0;32m--> 137\u001b[0m     style \u001b[38;5;241m=\u001b[39m _rc_params_in_file(style)\n\u001b[1;32m    138\u001b[0m \u001b[38;5;28;01mexcept\u001b[39;00m \u001b[38;5;167;01mOSError\u001b[39;00m \u001b[38;5;28;01mas\u001b[39;00m err:\n",
      "File \u001b[0;32m/opt/anaconda3/lib/python3.11/site-packages/matplotlib/__init__.py:866\u001b[0m, in \u001b[0;36m_rc_params_in_file\u001b[0;34m(fname, transform, fail_on_error)\u001b[0m\n\u001b[1;32m    865\u001b[0m rc_temp \u001b[38;5;241m=\u001b[39m {}\n\u001b[0;32m--> 866\u001b[0m \u001b[38;5;28;01mwith\u001b[39;00m _open_file_or_url(fname) \u001b[38;5;28;01mas\u001b[39;00m fd:\n\u001b[1;32m    867\u001b[0m     \u001b[38;5;28;01mtry\u001b[39;00m:\n",
      "File \u001b[0;32m/opt/anaconda3/lib/python3.11/contextlib.py:137\u001b[0m, in \u001b[0;36m_GeneratorContextManager.__enter__\u001b[0;34m(self)\u001b[0m\n\u001b[1;32m    136\u001b[0m \u001b[38;5;28;01mtry\u001b[39;00m:\n\u001b[0;32m--> 137\u001b[0m     \u001b[38;5;28;01mreturn\u001b[39;00m \u001b[38;5;28mnext\u001b[39m(\u001b[38;5;28mself\u001b[39m\u001b[38;5;241m.\u001b[39mgen)\n\u001b[1;32m    138\u001b[0m \u001b[38;5;28;01mexcept\u001b[39;00m \u001b[38;5;167;01mStopIteration\u001b[39;00m:\n",
      "File \u001b[0;32m/opt/anaconda3/lib/python3.11/site-packages/matplotlib/__init__.py:843\u001b[0m, in \u001b[0;36m_open_file_or_url\u001b[0;34m(fname)\u001b[0m\n\u001b[1;32m    842\u001b[0m fname \u001b[38;5;241m=\u001b[39m os\u001b[38;5;241m.\u001b[39mpath\u001b[38;5;241m.\u001b[39mexpanduser(fname)\n\u001b[0;32m--> 843\u001b[0m \u001b[38;5;28;01mwith\u001b[39;00m \u001b[38;5;28mopen\u001b[39m(fname, encoding\u001b[38;5;241m=\u001b[39m\u001b[38;5;124m'\u001b[39m\u001b[38;5;124mutf-8\u001b[39m\u001b[38;5;124m'\u001b[39m) \u001b[38;5;28;01mas\u001b[39;00m f:\n\u001b[1;32m    844\u001b[0m     \u001b[38;5;28;01myield\u001b[39;00m f\n",
      "\u001b[0;31mFileNotFoundError\u001b[0m: [Errno 2] No such file or directory: 'seaborn'",
      "\nThe above exception was the direct cause of the following exception:\n",
      "\u001b[0;31mOSError\u001b[0m                                   Traceback (most recent call last)",
      "Cell \u001b[0;32mIn[8], line 1\u001b[0m\n\u001b[0;32m----> 1\u001b[0m plt\u001b[38;5;241m.\u001b[39mstyle\u001b[38;5;241m.\u001b[39muse(\u001b[38;5;124m'\u001b[39m\u001b[38;5;124mseaborn\u001b[39m\u001b[38;5;124m'\u001b[39m)\n\u001b[1;32m      2\u001b[0m df\u001b[38;5;241m.\u001b[39mplot(secondary_y\u001b[38;5;241m=\u001b[39m[\u001b[38;5;124m\"\u001b[39m\u001b[38;5;124mHYG.spot\u001b[39m\u001b[38;5;124m\"\u001b[39m], legend\u001b[38;5;241m=\u001b[39m\u001b[38;5;28;01mTrue\u001b[39;00m)\n",
      "File \u001b[0;32m/opt/anaconda3/lib/python3.11/site-packages/matplotlib/style/core.py:139\u001b[0m, in \u001b[0;36muse\u001b[0;34m(style)\u001b[0m\n\u001b[1;32m    137\u001b[0m         style \u001b[38;5;241m=\u001b[39m _rc_params_in_file(style)\n\u001b[1;32m    138\u001b[0m     \u001b[38;5;28;01mexcept\u001b[39;00m \u001b[38;5;167;01mOSError\u001b[39;00m \u001b[38;5;28;01mas\u001b[39;00m err:\n\u001b[0;32m--> 139\u001b[0m         \u001b[38;5;28;01mraise\u001b[39;00m \u001b[38;5;167;01mOSError\u001b[39;00m(\n\u001b[1;32m    140\u001b[0m             \u001b[38;5;124mf\u001b[39m\u001b[38;5;124m\"\u001b[39m\u001b[38;5;132;01m{\u001b[39;00mstyle\u001b[38;5;132;01m!r}\u001b[39;00m\u001b[38;5;124m is not a valid package style, path of style \u001b[39m\u001b[38;5;124m\"\u001b[39m\n\u001b[1;32m    141\u001b[0m             \u001b[38;5;124mf\u001b[39m\u001b[38;5;124m\"\u001b[39m\u001b[38;5;124mfile, URL of style file, or library style name (library \u001b[39m\u001b[38;5;124m\"\u001b[39m\n\u001b[1;32m    142\u001b[0m             \u001b[38;5;124mf\u001b[39m\u001b[38;5;124m\"\u001b[39m\u001b[38;5;124mstyles are listed in `style.available`)\u001b[39m\u001b[38;5;124m\"\u001b[39m) \u001b[38;5;28;01mfrom\u001b[39;00m \u001b[38;5;21;01merr\u001b[39;00m\n\u001b[1;32m    143\u001b[0m filtered \u001b[38;5;241m=\u001b[39m {}\n\u001b[1;32m    144\u001b[0m \u001b[38;5;28;01mfor\u001b[39;00m k \u001b[38;5;129;01min\u001b[39;00m style:  \u001b[38;5;66;03m# don't trigger RcParams.__getitem__('backend')\u001b[39;00m\n",
      "\u001b[0;31mOSError\u001b[0m: 'seaborn' is not a valid package style, path of style file, URL of style file, or library style name (library styles are listed in `style.available`)"
     ]
    }
   ],
   "source": [
    "plt.style.use('seaborn')\n",
    "df.plot(secondary_y=[\"HYG.spot\"], legend=True)"
   ]
  },
  {
   "cell_type": "markdown",
   "metadata": {},
   "source": [
    "If we flip around RTY implied vol, we can see this inverse relationship a bit better. "
   ]
  },
  {
   "cell_type": "code",
   "execution_count": null,
   "metadata": {},
   "outputs": [],
   "source": [
    "df[\"RTY.3m.Proxy.Implied.Vol\"] = df[\"RTY.3m.Proxy.Implied.Vol\"] * -1\n",
    "df.plot(secondary_y=[\"HYG.spot\"], legend=True)"
   ]
  },
  {
   "cell_type": "markdown",
   "metadata": {},
   "source": [
    "We can look at the scatter on levels pretty easily with `matplotlib` using `matplotlib.pyplot.scatter`."
   ]
  },
  {
   "cell_type": "code",
   "execution_count": null,
   "metadata": {},
   "outputs": [],
   "source": [
    "plt.scatter( df[ df.columns[ 0 ] ], df[ df.columns[ 1 ] ] )"
   ]
  },
  {
   "cell_type": "markdown",
   "metadata": {},
   "source": [
    "It looks like there is a relationship there (there should be, we generated the series with a negative correlation). Let's explore that a bit. As we said before, `seaborn` comes with a bunch of good statistical tools. In fact, it has has quick and easy way to generate a regression plot with `sns.regplot`."
   ]
  },
  {
   "cell_type": "code",
   "execution_count": 12,
   "metadata": {},
   "outputs": [
    {
     "data": {
      "text/plain": [
       "<Axes: xlabel='HYG.spot', ylabel='RTY.3m.Proxy.Implied.Vol'>"
      ]
     },
     "execution_count": 12,
     "metadata": {},
     "output_type": "execute_result"
    },
    {
     "data": {
      "image/png": "[encoded data removed]",
      "text/plain": [
       "<Figure size 640x480 with 1 Axes>"
      ]
     },
     "metadata": {},
     "output_type": "display_data"
    }
   ],
   "source": [
    "fig, ax = plt.subplots( sharex=True )\n",
    "sns.regplot( x=\"HYG.spot\", y=\"RTY.3m.Proxy.Implied.Vol\", data=df.diff(), ax=ax )"
   ]
  },
  {
   "cell_type": "markdown",
   "metadata": {},
   "source": [
    "Unfortunately, the underlying regression data is not exposed in `seaborn`, so we will need to generate it ourselves using `scipy`."
   ]
  },
  {
   "cell_type": "code",
   "execution_count": 13,
   "metadata": {},
   "outputs": [
    {
     "name": "stdout",
     "output_type": "stream",
     "text": [
      "R^2 = -0.372\n",
      "y = -0.008x + 0.001\n"
     ]
    }
   ],
   "source": [
    "from scipy import stats\n",
    "\n",
    "diff = df.diff().dropna()\n",
    "slope, intercept, rvalue, pvalue, stderr = stats.linregress(diff[\"HYG.spot\"], diff[\"RTY.3m.Proxy.Implied.Vol\"])\n",
    "print( \"R^2 = {r:.3f}\".format( r=rvalue ) )\n",
    "print( 'y = {m:.3f}x {sign} {b:.3f}'.format( m=slope, sign=\"+\" if intercept >= 0 else \"-\", b=abs(intercept) ) )"
   ]
  },
  {
   "cell_type": "markdown",
   "metadata": {},
   "source": [
    "What if I want to interact with the plot.... zoom in, inspect the values, etc. This is where `plotly` shines."
   ]
  },
  {
   "cell_type": "code",
   "execution_count": 14,
   "metadata": {},
   "outputs": [
    {
     "data": {
      "text/html": [
       "        <script type=\"text/javascript\">\n",
       "        window.PlotlyConfig = {MathJaxConfig: 'local'};\n",
       "        if (window.MathJax && window.MathJax.Hub && window.MathJax.Hub.Config) {window.MathJax.Hub.Config({SVG: {font: \"STIX-Web\"}});}\n",
       "        if (typeof require !== 'undefined') {\n",
       "        require.undef(\"plotly\");\n",
       "        requirejs.config({\n",
       "            paths: {\n",
       "                'plotly': ['https://cdn.plot.ly/plotly-2.12.1.min']\n",
       "            }\n",
       "        });\n",
       "        require(['plotly'], function(Plotly) {\n",
       "            window._Plotly = Plotly;\n",
       "        });\n",
       "        }\n",
       "        </script>\n",
       "        "
      ]
     },
     "metadata": {},
     "output_type": "display_data"
    },
    {
     "name": "stderr",
     "output_type": "stream",
     "text": [
      "/opt/anaconda3/lib/python3.11/site-packages/plotly/matplotlylib/renderer.py:647: UserWarning:\n",
      "\n",
      "Looks like the annotation(s) you are trying \n",
      "to draw lies/lay outside the given figure size.\n",
      "\n",
      "Therefore, the resulting Plotly figure may not be \n",
      "large enough to view the full text. To adjust \n",
      "the size of the figure, use the 'width' and \n",
      "'height' keys in the Layout object. Alternatively,\n",
      "use the Margin object to adjust the figure's margins.\n",
      "\n"
     ]
    },
    {
     "ename": "AttributeError",
     "evalue": "'PathCollection' object has no attribute 'get_offset_position'",
     "output_type": "error",
     "traceback": [
      "\u001b[0;31m---------------------------------------------------------------------------\u001b[0m",
      "\u001b[0;31mAttributeError\u001b[0m                            Traceback (most recent call last)",
      "Cell \u001b[0;32mIn[14], line 6\u001b[0m\n\u001b[1;32m      3\u001b[0m init_notebook_mode(connected\u001b[38;5;241m=\u001b[39m\u001b[38;5;28;01mTrue\u001b[39;00m)\n\u001b[1;32m      5\u001b[0m \u001b[38;5;66;03m# Here we can convert our matplotlib object to a plotly object\u001b[39;00m\n\u001b[0;32m----> 6\u001b[0m plotlyFig \u001b[38;5;241m=\u001b[39m tls\u001b[38;5;241m.\u001b[39mmpl_to_plotly(fig)\n\u001b[1;32m      8\u001b[0m \u001b[38;5;66;03m# Add annotation so you have the regression stats\u001b[39;00m\n\u001b[1;32m      9\u001b[0m plotlyFig[\u001b[38;5;124m'\u001b[39m\u001b[38;5;124mlayout\u001b[39m\u001b[38;5;124m'\u001b[39m][\u001b[38;5;124m'\u001b[39m\u001b[38;5;124mannotations\u001b[39m\u001b[38;5;124m'\u001b[39m] \u001b[38;5;241m=\u001b[39m [\n\u001b[1;32m     10\u001b[0m     \u001b[38;5;28mdict\u001b[39m(\n\u001b[1;32m     11\u001b[0m         x\u001b[38;5;241m=\u001b[39m\u001b[38;5;241m18\u001b[39m,\n\u001b[0;32m   (...)\u001b[0m\n\u001b[1;32m     21\u001b[0m     )\n\u001b[1;32m     22\u001b[0m ]\n",
      "File \u001b[0;32m/opt/anaconda3/lib/python3.11/site-packages/plotly/tools.py:111\u001b[0m, in \u001b[0;36mmpl_to_plotly\u001b[0;34m(fig, resize, strip_style, verbose)\u001b[0m\n\u001b[1;32m    109\u001b[0m \u001b[38;5;28;01mif\u001b[39;00m matplotlylib:\n\u001b[1;32m    110\u001b[0m     renderer \u001b[38;5;241m=\u001b[39m matplotlylib\u001b[38;5;241m.\u001b[39mPlotlyRenderer()\n\u001b[0;32m--> 111\u001b[0m     matplotlylib\u001b[38;5;241m.\u001b[39mExporter(renderer)\u001b[38;5;241m.\u001b[39mrun(fig)\n\u001b[1;32m    112\u001b[0m     \u001b[38;5;28;01mif\u001b[39;00m resize:\n\u001b[1;32m    113\u001b[0m         renderer\u001b[38;5;241m.\u001b[39mresize()\n",
      "File \u001b[0;32m/opt/anaconda3/lib/python3.11/site-packages/plotly/matplotlylib/mplexporter/exporter.py:53\u001b[0m, in \u001b[0;36mExporter.run\u001b[0;34m(self, fig)\u001b[0m\n\u001b[1;32m     50\u001b[0m     \u001b[38;5;28;01mimport\u001b[39;00m \u001b[38;5;21;01mmatplotlib\u001b[39;00m\u001b[38;5;21;01m.\u001b[39;00m\u001b[38;5;21;01mpyplot\u001b[39;00m \u001b[38;5;28;01mas\u001b[39;00m \u001b[38;5;21;01mplt\u001b[39;00m\n\u001b[1;32m     52\u001b[0m     plt\u001b[38;5;241m.\u001b[39mclose(fig)\n\u001b[0;32m---> 53\u001b[0m \u001b[38;5;28mself\u001b[39m\u001b[38;5;241m.\u001b[39mcrawl_fig(fig)\n",
      "File \u001b[0;32m/opt/anaconda3/lib/python3.11/site-packages/plotly/matplotlylib/mplexporter/exporter.py:124\u001b[0m, in \u001b[0;36mExporter.crawl_fig\u001b[0;34m(self, fig)\u001b[0m\n\u001b[1;32m    122\u001b[0m \u001b[38;5;28;01mwith\u001b[39;00m \u001b[38;5;28mself\u001b[39m\u001b[38;5;241m.\u001b[39mrenderer\u001b[38;5;241m.\u001b[39mdraw_figure(fig\u001b[38;5;241m=\u001b[39mfig, props\u001b[38;5;241m=\u001b[39mutils\u001b[38;5;241m.\u001b[39mget_figure_properties(fig)):\n\u001b[1;32m    123\u001b[0m     \u001b[38;5;28;01mfor\u001b[39;00m ax \u001b[38;5;129;01min\u001b[39;00m fig\u001b[38;5;241m.\u001b[39maxes:\n\u001b[0;32m--> 124\u001b[0m         \u001b[38;5;28mself\u001b[39m\u001b[38;5;241m.\u001b[39mcrawl_ax(ax)\n",
      "File \u001b[0;32m/opt/anaconda3/lib/python3.11/site-packages/plotly/matplotlylib/mplexporter/exporter.py:146\u001b[0m, in \u001b[0;36mExporter.crawl_ax\u001b[0;34m(self, ax)\u001b[0m\n\u001b[1;32m    144\u001b[0m     \u001b[38;5;28mself\u001b[39m\u001b[38;5;241m.\u001b[39mdraw_patch(ax, patch)\n\u001b[1;32m    145\u001b[0m \u001b[38;5;28;01mfor\u001b[39;00m collection \u001b[38;5;129;01min\u001b[39;00m ax\u001b[38;5;241m.\u001b[39mcollections:\n\u001b[0;32m--> 146\u001b[0m     \u001b[38;5;28mself\u001b[39m\u001b[38;5;241m.\u001b[39mdraw_collection(ax, collection)\n\u001b[1;32m    147\u001b[0m \u001b[38;5;28;01mfor\u001b[39;00m image \u001b[38;5;129;01min\u001b[39;00m ax\u001b[38;5;241m.\u001b[39mimages:\n\u001b[1;32m    148\u001b[0m     \u001b[38;5;28mself\u001b[39m\u001b[38;5;241m.\u001b[39mdraw_image(ax, image)\n",
      "File \u001b[0;32m/opt/anaconda3/lib/python3.11/site-packages/plotly/matplotlylib/mplexporter/exporter.py:289\u001b[0m, in \u001b[0;36mExporter.draw_collection\u001b[0;34m(self, ax, collection, force_pathtrans, force_offsettrans)\u001b[0m\n\u001b[1;32m    280\u001b[0m styles \u001b[38;5;241m=\u001b[39m {\n\u001b[1;32m    281\u001b[0m     \u001b[38;5;124m\"\u001b[39m\u001b[38;5;124mlinewidth\u001b[39m\u001b[38;5;124m\"\u001b[39m: collection\u001b[38;5;241m.\u001b[39mget_linewidths(),\n\u001b[1;32m    282\u001b[0m     \u001b[38;5;124m\"\u001b[39m\u001b[38;5;124mfacecolor\u001b[39m\u001b[38;5;124m\"\u001b[39m: collection\u001b[38;5;241m.\u001b[39mget_facecolors(),\n\u001b[0;32m   (...)\u001b[0m\n\u001b[1;32m    285\u001b[0m     \u001b[38;5;124m\"\u001b[39m\u001b[38;5;124mzorder\u001b[39m\u001b[38;5;124m\"\u001b[39m: collection\u001b[38;5;241m.\u001b[39mget_zorder(),\n\u001b[1;32m    286\u001b[0m }\n\u001b[1;32m    288\u001b[0m offset_dict \u001b[38;5;241m=\u001b[39m {\u001b[38;5;124m\"\u001b[39m\u001b[38;5;124mdata\u001b[39m\u001b[38;5;124m\"\u001b[39m: \u001b[38;5;124m\"\u001b[39m\u001b[38;5;124mbefore\u001b[39m\u001b[38;5;124m\"\u001b[39m, \u001b[38;5;124m\"\u001b[39m\u001b[38;5;124mscreen\u001b[39m\u001b[38;5;124m\"\u001b[39m: \u001b[38;5;124m\"\u001b[39m\u001b[38;5;124mafter\u001b[39m\u001b[38;5;124m\"\u001b[39m}\n\u001b[0;32m--> 289\u001b[0m offset_order \u001b[38;5;241m=\u001b[39m offset_dict[collection\u001b[38;5;241m.\u001b[39mget_offset_position()]\n\u001b[1;32m    291\u001b[0m \u001b[38;5;28mself\u001b[39m\u001b[38;5;241m.\u001b[39mrenderer\u001b[38;5;241m.\u001b[39mdraw_path_collection(\n\u001b[1;32m    292\u001b[0m     paths\u001b[38;5;241m=\u001b[39mprocessed_paths,\n\u001b[1;32m    293\u001b[0m     path_coordinates\u001b[38;5;241m=\u001b[39mpath_coords,\n\u001b[0;32m   (...)\u001b[0m\n\u001b[1;32m    299\u001b[0m     mplobj\u001b[38;5;241m=\u001b[39mcollection,\n\u001b[1;32m    300\u001b[0m )\n",
      "\u001b[0;31mAttributeError\u001b[0m: 'PathCollection' object has no attribute 'get_offset_position'"
     ]
    }
   ],
   "source": [
    "from plotly.offline import download_plotlyjs, init_notebook_mode, iplot\n",
    "import plotly.tools as tls\n",
    "init_notebook_mode(connected=True)\n",
    "\n",
    "# Here we can convert our matplotlib object to a plotly object\n",
    "plotlyFig = tls.mpl_to_plotly(fig)\n",
    "\n",
    "# Add annotation so you have the regression stats\n",
    "plotlyFig['layout']['annotations'] = [\n",
    "    dict(\n",
    "        x=18,\n",
    "        y=-2,\n",
    "        showarrow=False,\n",
    "        text='R^2 = {:.3f}'.format( rvalue )\n",
    "    ),\n",
    "    dict(\n",
    "        x=18,\n",
    "        y=-2.6,\n",
    "        showarrow=False,\n",
    "        text='y = {m:.3f}x {sign} {b:.3f}'.format( m=slope, sign=\"+\" if intercept >= 0 else \"-\", b=abs(intercept) )\n",
    "    )\n",
    "]\n",
    "iplot(plotlyFig)"
   ]
  },
  {
   "cell_type": "markdown",
   "metadata": {},
   "source": [
    "2d plots are cool but 3d plots.... Below is an example of plotting a vol surface from start to finish."
   ]
  },
  {
   "cell_type": "code",
   "execution_count": 15,
   "metadata": {},
   "outputs": [],
   "source": [
    "c = [0.8023,0.814,0.8256,0.8372,0.8488,0.8605,0.8721,0.8837,0.8953,0.907,0.9186,0.9302,0.9419,0.9535,0.9651,0.9767,0.9884,1,1.0116,1.0233,1.0349,1.0465,1.0581,1.0698,1.0814,1.093,1.1047,1.1163,1.1279,1.1395,1.1512,1.1628,1.1744,1.186,1.1977,1.2093]\n",
    "i = [ dt.datetime(2019,8,2),  dt.datetime(2019,8,9),  dt.datetime(2019,8,16),  dt.datetime(2019,8,23),  dt.datetime(2019,8,30),  dt.datetime(2019,9,6),  dt.datetime(2019,9,20),  dt.datetime(2019,10,18),  dt.datetime(2019,11,15),  dt.datetime(2019,12,20),  dt.datetime(2019,12,31),  dt.datetime(2020,1,17),  dt.datetime(2020,3,20),  dt.datetime(2020,3,31),  dt.datetime(2020,6,19) ]\n",
    "d = [ [0.4244,0.4016,0.3796,0.3584,0.3381,0.3187,0.3002,0.2827,0.2662,0.2508,0.2363,0.2229,0.2105,0.1991,0.1888,0.1794,0.171,0.1636,0.157,0.1513,0.1465,0.1425,0.1393,0.1368,0.135,0.1338,0.1331,0.1329,0.133,0.1334,0.1341,0.135,0.136,0.1372,0.1384,0.1396],\n",
    "    [0.4006,0.3777,0.3556,0.3343,0.3139,0.2944,0.2759,0.2583,0.2418,0.2263,0.2118,0.1983,0.1859,0.1745,0.1641,0.1547,0.1463,0.1388,0.1322,0.1265,0.1216,0.1176,0.1143,0.1118,0.11,0.1088,0.1081,0.1078,0.108,0.1084,0.1092,0.1101,0.1112,0.1123,0.1136,0.1149],\n",
    "    [0.3431,0.3257,0.3089,0.2927,0.277,0.2621,0.2477,0.2341,0.2212,0.2089,0.1974,0.1866,0.1765,0.1671,0.1584,0.1504,0.1431,0.1364,0.1303,0.1248,0.1198,0.1154,0.1116,0.1083,0.1055,0.1032,0.1013,0.0998,0.0986,0.0977,0.0971,0.0966,0.0964,0.0963,0.0963,0.0965],\n",
    "    [0.3124,0.298,0.284,0.2705,0.2574,0.2449,0.2328,0.2213,0.2104,0.1999,0.1901,0.1807,0.1719,0.1637,0.156,0.1488,0.1421,0.136,0.1304,0.1253,0.1206,0.1165,0.1129,0.1098,0.1072,0.1049,0.1031,0.1015,0.1003,0.0994,0.0988,0.0983,0.098,0.0979,0.0978,0.0979],\n",
    "    [0.2955,0.283,0.2708,0.259,0.2475,0.2365,0.2259,0.2158,0.206,0.1968,0.1879,0.1795,0.1716,0.1641,0.1571,0.1505,0.1443,0.1385,0.1332,0.1284,0.124,0.1201,0.1167,0.1137,0.1111,0.1089,0.1071,0.1056,0.1044,0.1034,0.1027,0.1022,0.1019,0.1018,0.1017,0.1018],\n",
    "    [0.2866,0.2752,0.264,0.2532,0.2427,0.2326,0.2228,0.2134,0.2044,0.1958,0.1876,0.1798,0.1724,0.1653,0.1587,0.1524,0.1465,0.141,0.1359,0.1313,0.1271,0.1233,0.12,0.1171,0.1145,0.1124,0.1106,0.1091,0.1079,0.1069,0.1062,0.1057,0.1054,0.1052,0.1051,0.1051],\n",
    "    [0.2729,0.2632,0.2538,0.2446,0.2357,0.227,0.2187,0.2106,0.2028,0.1954,0.1882,0.1813,0.1748,0.1685,0.1626,0.1569,0.1516,0.1465,0.1418,0.1376,0.1336,0.1301,0.127,0.1242,0.1218,0.1197,0.1179,0.1164,0.1152,0.1143,0.1135,0.113,0.1126,0.1124,0.1122,0.1122],\n",
    "    [0.2548,0.2473,0.24,0.2329,0.226,0.2192,0.2126,0.2063,0.2001,0.1941,0.1883,0.1827,0.1773,0.1721,0.167,0.1622,0.1576,0.1532,0.149,0.1452,0.1416,0.1383,0.1354,0.1327,0.1303,0.1281,0.1262,0.1246,0.1232,0.122,0.121,0.1202,0.1195,0.119,0.1186,0.1183],\n",
    "    [0.2482,0.242,0.2359,0.2299,0.2241,0.2184,0.2128,0.2074,0.2021,0.1969,0.1919,0.187,0.1823,0.1777,0.1733,0.169,0.1649,0.1608,0.157,0.1535,0.1501,0.1471,0.1442,0.1415,0.1391,0.1369,0.135,0.1332,0.1316,0.1303,0.1291,0.128,0.1271,0.1263,0.1257,0.1252],\n",
    "    [0.2331,0.2278,0.2227,0.2176,0.2127,0.2078,0.2031,0.1984,0.1939,0.1895,0.1851,0.1809,0.1768,0.1728,0.1689,0.1652,0.1615,0.158,0.1547,0.1516,0.1486,0.1459,0.1433,0.1409,0.1387,0.1367,0.1349,0.1332,0.1317,0.1303,0.1291,0.128,0.127,0.1261,0.1254,0.1247],\n",
    "    [0.2313,0.2262,0.2212,0.2163,0.2115,0.2068,0.2022,0.1977,0.1932,0.1889,0.1847,0.1806,0.1766,0.1727,0.1689,0.1653,0.1617,0.1582,0.155,0.152,0.1491,0.1464,0.1438,0.1415,0.1393,0.1373,0.1354,0.1337,0.1322,0.1308,0.1296,0.1284,0.1274,0.1266,0.1258,0.1251],\n",
    "    [0.2302,0.2253,0.2206,0.216,0.2114,0.2069,0.2026,0.1983,0.1941,0.19,0.186,0.1821,0.1783,0.1745,0.1709,0.1674,0.164,0.1607,0.1576,0.1546,0.1518,0.1492,0.1467,0.1444,0.1423,0.1403,0.1384,0.1367,0.1351,0.1337,0.1324,0.1313,0.1302,0.1293,0.1285,0.1277],\n",
    "    [0.229,0.2249,0.2209,0.2169,0.213,0.2091,0.2054,0.2017,0.1981,0.1946,0.1911,0.1877,0.1845,0.1812,0.1781,0.175,0.172,0.1691,0.1664,0.1637,0.1611,0.1587,0.1563,0.1541,0.152,0.15,0.148,0.1462,0.1445,0.143,0.1415,0.1401,0.1388,0.1376,0.1365,0.1355],\n",
    "    [0.2289,0.2249,0.2209,0.2171,0.2133,0.2096,0.2059,0.2023,0.1988,0.1953,0.192,0.1887,0.1855,0.1823,0.1793,0.1763,0.1733,0.1705,0.1678,0.1651,0.1626,0.1602,0.1579,0.1557,0.1535,0.1515,0.1496,0.1478,0.1461,0.1445,0.143,0.1415,0.1402,0.139,0.1379,0.1368],\n",
    "    [0.2239,0.2207,0.2175,0.2143,0.2112,0.2082,0.2051,0.2022,0.1993,0.1964,0.1936,0.1909,0.1882,0.1855,0.1829,0.1804,0.1779,0.1755,0.1731,0.1708,0.1685,0.1663,0.1642,0.1622,0.1601,0.1582,0.1563,0.1545,0.1527,0.151,0.1494,0.1478,0.1464,0.1449,0.1436,0.1423]\n",
    "]\n",
    "df2 = pd.DataFrame(d, columns=c, index=i)"
   ]
  },
  {
   "cell_type": "code",
   "execution_count": 16,
   "metadata": {},
   "outputs": [
    {
     "data": {
      "text/html": [
       "<div>\n",
       "<style scoped>\n",
       "    .dataframe tbody tr th:only-of-type {\n",
       "        vertical-align: middle;\n",
       "    }\n",
       "\n",
       "    .dataframe tbody tr th {\n",
       "        vertical-align: top;\n",
       "    }\n",
       "\n",
       "    .dataframe thead th {\n",
       "        text-align: right;\n",
       "    }\n",
       "</style>\n",
       "<table border=\"1\" class=\"dataframe\">\n",
       "  <thead>\n",
       "    <tr style=\"text-align: right;\">\n",
       "      <th></th>\n",
       "      <th>0.8023</th>\n",
       "      <th>0.8140</th>\n",
       "      <th>0.8256</th>\n",
       "      <th>0.8372</th>\n",
       "      <th>0.8488</th>\n",
       "      <th>0.8605</th>\n",
       "      <th>0.8721</th>\n",
       "      <th>0.8837</th>\n",
       "      <th>0.8953</th>\n",
       "      <th>0.9070</th>\n",
       "      <th>...</th>\n",
       "      <th>1.1047</th>\n",
       "      <th>1.1163</th>\n",
       "      <th>1.1279</th>\n",
       "      <th>1.1395</th>\n",
       "      <th>1.1512</th>\n",
       "      <th>1.1628</th>\n",
       "      <th>1.1744</th>\n",
       "      <th>1.1860</th>\n",
       "      <th>1.1977</th>\n",
       "      <th>1.2093</th>\n",
       "    </tr>\n",
       "  </thead>\n",
       "  <tbody>\n",
       "    <tr>\n",
       "      <th>2019-08-02</th>\n",
       "      <td>0.4244</td>\n",
       "      <td>0.4016</td>\n",
       "      <td>0.3796</td>\n",
       "      <td>0.3584</td>\n",
       "      <td>0.3381</td>\n",
       "      <td>0.3187</td>\n",
       "      <td>0.3002</td>\n",
       "      <td>0.2827</td>\n",
       "      <td>0.2662</td>\n",
       "      <td>0.2508</td>\n",
       "      <td>...</td>\n",
       "      <td>0.1331</td>\n",
       "      <td>0.1329</td>\n",
       "      <td>0.1330</td>\n",
       "      <td>0.1334</td>\n",
       "      <td>0.1341</td>\n",
       "      <td>0.1350</td>\n",
       "      <td>0.1360</td>\n",
       "      <td>0.1372</td>\n",
       "      <td>0.1384</td>\n",
       "      <td>0.1396</td>\n",
       "    </tr>\n",
       "    <tr>\n",
       "      <th>2019-08-09</th>\n",
       "      <td>0.4006</td>\n",
       "      <td>0.3777</td>\n",
       "      <td>0.3556</td>\n",
       "      <td>0.3343</td>\n",
       "      <td>0.3139</td>\n",
       "      <td>0.2944</td>\n",
       "      <td>0.2759</td>\n",
       "      <td>0.2583</td>\n",
       "      <td>0.2418</td>\n",
       "      <td>0.2263</td>\n",
       "      <td>...</td>\n",
       "      <td>0.1081</td>\n",
       "      <td>0.1078</td>\n",
       "      <td>0.1080</td>\n",
       "      <td>0.1084</td>\n",
       "      <td>0.1092</td>\n",
       "      <td>0.1101</td>\n",
       "      <td>0.1112</td>\n",
       "      <td>0.1123</td>\n",
       "      <td>0.1136</td>\n",
       "      <td>0.1149</td>\n",
       "    </tr>\n",
       "    <tr>\n",
       "      <th>2019-08-16</th>\n",
       "      <td>0.3431</td>\n",
       "      <td>0.3257</td>\n",
       "      <td>0.3089</td>\n",
       "      <td>0.2927</td>\n",
       "      <td>0.2770</td>\n",
       "      <td>0.2621</td>\n",
       "      <td>0.2477</td>\n",
       "      <td>0.2341</td>\n",
       "      <td>0.2212</td>\n",
       "      <td>0.2089</td>\n",
       "      <td>...</td>\n",
       "      <td>0.1013</td>\n",
       "      <td>0.0998</td>\n",
       "      <td>0.0986</td>\n",
       "      <td>0.0977</td>\n",
       "      <td>0.0971</td>\n",
       "      <td>0.0966</td>\n",
       "      <td>0.0964</td>\n",
       "      <td>0.0963</td>\n",
       "      <td>0.0963</td>\n",
       "      <td>0.0965</td>\n",
       "    </tr>\n",
       "    <tr>\n",
       "      <th>2019-08-23</th>\n",
       "      <td>0.3124</td>\n",
       "      <td>0.2980</td>\n",
       "      <td>0.2840</td>\n",
       "      <td>0.2705</td>\n",
       "      <td>0.2574</td>\n",
       "      <td>0.2449</td>\n",
       "      <td>0.2328</td>\n",
       "      <td>0.2213</td>\n",
       "      <td>0.2104</td>\n",
       "      <td>0.1999</td>\n",
       "      <td>...</td>\n",
       "      <td>0.1031</td>\n",
       "      <td>0.1015</td>\n",
       "      <td>0.1003</td>\n",
       "      <td>0.0994</td>\n",
       "      <td>0.0988</td>\n",
       "      <td>0.0983</td>\n",
       "      <td>0.0980</td>\n",
       "      <td>0.0979</td>\n",
       "      <td>0.0978</td>\n",
       "      <td>0.0979</td>\n",
       "    </tr>\n",
       "    <tr>\n",
       "      <th>2019-08-30</th>\n",
       "      <td>0.2955</td>\n",
       "      <td>0.2830</td>\n",
       "      <td>0.2708</td>\n",
       "      <td>0.2590</td>\n",
       "      <td>0.2475</td>\n",
       "      <td>0.2365</td>\n",
       "      <td>0.2259</td>\n",
       "      <td>0.2158</td>\n",
       "      <td>0.2060</td>\n",
       "      <td>0.1968</td>\n",
       "      <td>...</td>\n",
       "      <td>0.1071</td>\n",
       "      <td>0.1056</td>\n",
       "      <td>0.1044</td>\n",
       "      <td>0.1034</td>\n",
       "      <td>0.1027</td>\n",
       "      <td>0.1022</td>\n",
       "      <td>0.1019</td>\n",
       "      <td>0.1018</td>\n",
       "      <td>0.1017</td>\n",
       "      <td>0.1018</td>\n",
       "    </tr>\n",
       "  </tbody>\n",
       "</table>\n",
       "<p>5 rows × 36 columns</p>\n",
       "</div>"
      ],
      "text/plain": [
       "            0.8023  0.8140  0.8256  0.8372  0.8488  0.8605  0.8721  0.8837  \\\n",
       "2019-08-02  0.4244  0.4016  0.3796  0.3584  0.3381  0.3187  0.3002  0.2827   \n",
       "2019-08-09  0.4006  0.3777  0.3556  0.3343  0.3139  0.2944  0.2759  0.2583   \n",
       "2019-08-16  0.3431  0.3257  0.3089  0.2927  0.2770  0.2621  0.2477  0.2341   \n",
       "2019-08-23  0.3124  0.2980  0.2840  0.2705  0.2574  0.2449  0.2328  0.2213   \n",
       "2019-08-30  0.2955  0.2830  0.2708  0.2590  0.2475  0.2365  0.2259  0.2158   \n",
       "\n",
       "            0.8953  0.9070  ...  1.1047  1.1163  1.1279  1.1395  1.1512  \\\n",
       "2019-08-02  0.2662  0.2508  ...  0.1331  0.1329  0.1330  0.1334  0.1341   \n",
       "2019-08-09  0.2418  0.2263  ...  0.1081  0.1078  0.1080  0.1084  0.1092   \n",
       "2019-08-16  0.2212  0.2089  ...  0.1013  0.0998  0.0986  0.0977  0.0971   \n",
       "2019-08-23  0.2104  0.1999  ...  0.1031  0.1015  0.1003  0.0994  0.0988   \n",
       "2019-08-30  0.2060  0.1968  ...  0.1071  0.1056  0.1044  0.1034  0.1027   \n",
       "\n",
       "            1.1628  1.1744  1.1860  1.1977  1.2093  \n",
       "2019-08-02  0.1350  0.1360  0.1372  0.1384  0.1396  \n",
       "2019-08-09  0.1101  0.1112  0.1123  0.1136  0.1149  \n",
       "2019-08-16  0.0966  0.0964  0.0963  0.0963  0.0965  \n",
       "2019-08-23  0.0983  0.0980  0.0979  0.0978  0.0979  \n",
       "2019-08-30  0.1022  0.1019  0.1018  0.1017  0.1018  \n",
       "\n",
       "[5 rows x 36 columns]"
      ]
     },
     "execution_count": 16,
     "metadata": {},
     "output_type": "execute_result"
    }
   ],
   "source": [
    "df2.head()"
   ]
  },
  {
   "cell_type": "code",
   "execution_count": 17,
   "metadata": {},
   "outputs": [
    {
     "data": {
      "application/vnd.jupyter.widget-view+json": {
       "model_id": "24f35ee32b5e4311815711534012d724",
       "version_major": 2,
       "version_minor": 0
      },
      "text/plain": [
       "FigureWidget({\n",
       "    'data': [{'type': 'surface',\n",
       "              'uid': 'f110ef89-635b-49c8-b5cc-9465ddd82e40',\n",
       " …"
      ]
     },
     "metadata": {},
     "output_type": "display_data"
    }
   ],
   "source": [
    "import plotly.graph_objs as go\n",
    "\n",
    "fig = go.Figure(\n",
    "    data=[ go.Surface(\n",
    "        z=df2.values.tolist(),\n",
    "        y=df2.columns.values,\n",
    "        x=df2.index.astype(str).values.tolist()\n",
    "    )],\n",
    "    layout=dict(\n",
    "        title = 'Vol Surface', \n",
    "        autosize = True,\n",
    "        width = 900,\n",
    "        height = 700,\n",
    "        margin = dict(\n",
    "            l = 65,\n",
    "            r = 50,\n",
    "            b = 65,\n",
    "            t = 90\n",
    "        ),\n",
    "        scene = dict(\n",
    "            aspectratio = dict(\n",
    "                x = 1,\n",
    "                y = 1,\n",
    "                z = 0.667\n",
    "            )\n",
    "        )\n",
    "    ))\n",
    "\n",
    "go.FigureWidget(fig)"
   ]
  },
  {
   "cell_type": "code",
   "execution_count": null,
   "metadata": {},
   "outputs": [],
   "source": []
  }
 ],
 "metadata": {
  "kernelspec": {
   "display_name": "Python 3 (ipykernel)",
   "language": "python",
   "name": "python3"
  },
  "language_info": {
   "codemirror_mode": {
    "name": "ipython",
    "version": 3
   },
   "file_extension": ".py",
   "mimetype": "text/x-python",
   "name": "python",
   "nbconvert_exporter": "python",
   "pygments_lexer": "ipython3",
   "version": "3.11.7"
  }
 },
 "nbformat": 4,
 "nbformat_minor": 4
}

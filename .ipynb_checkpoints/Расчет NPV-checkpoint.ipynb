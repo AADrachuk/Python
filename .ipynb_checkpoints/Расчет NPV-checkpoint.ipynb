{
 "cells": [
  {
   "cell_type": "markdown",
   "id": "dee82b0a",
   "metadata": {},
   "source": [
    "<h1>Расчет NPV</h1>\n",
    "\n",
    "<p>Разработано Драчуком А. для The Foundation</p>\n",
    "<a href=\"https://t.me/LYFTN\">Следите за нами в Телеграм</a>"
   ]
  },
  {
   "cell_type": "markdown",
   "id": "90592755",
   "metadata": {},
   "source": [
    "<p>NPV представляет собой сумму денежных потоков, приведенных к настоящему моменту времени по заданной ставке дисконтирования:</p>\n",
    "$$\n",
    "NPV = \\sum_{i=0}^{n}\\frac{CF_{i}}{(1+r)^i}\n",
    "$$"
   ]
  },
  {
   "cell_type": "markdown",
   "id": "4c3b2892",
   "metadata": {},
   "source": [
    "<h3>Вводим входные данные для расчета</h3>"
   ]
  },
  {
   "cell_type": "code",
   "execution_count": 31,
   "id": "ccd4a3e8",
   "metadata": {},
   "outputs": [],
   "source": [
    "discount_rate = 0.035        #указываем ставку дисконтирования\n",
    "cashflows = [-100, -30, 10, 40, 50, 45, 20]        #указываем значения денежных потоков"
   ]
  },
  {
   "cell_type": "markdown",
   "id": "977923e0",
   "metadata": {},
   "source": [
    "<h3>Пишем функцию расчета NPV</h3>"
   ]
  },
  {
   "cell_type": "code",
   "execution_count": 34,
   "id": "333aba99",
   "metadata": {},
   "outputs": [],
   "source": [
    "def npv_calculation(discount_rate, cashflows):\n",
    "    cf_length = len(cashflows)\n",
    "    total = 0.0\n",
    "    for i, cashflow in enumerate(cashflows[1:cf_length]):\n",
    "        total += cashflow / (1 + discount_rate) ** (i + 1)\n",
    "    \n",
    "    npv_result = cashflows[0] + total \n",
    "    \n",
    "    return npv_result"
   ]
  },
  {
   "cell_type": "markdown",
   "id": "a9d0bfa3",
   "metadata": {},
   "source": [
    "<h3>Проводим расчет</h3>"
   ]
  },
  {
   "cell_type": "code",
   "execution_count": 35,
   "id": "34e983b7",
   "metadata": {},
   "outputs": [
    {
     "data": {
      "text/plain": [
       "14.158224763725372"
      ]
     },
     "execution_count": 35,
     "metadata": {},
     "output_type": "execute_result"
    }
   ],
   "source": [
    "npv_calculation(discount_rate, cashflows)"
   ]
  },
  {
   "cell_type": "code",
   "execution_count": null,
   "id": "261b55c4",
   "metadata": {},
   "outputs": [],
   "source": []
  }
 ],
 "metadata": {
  "kernelspec": {
   "display_name": "Python 3 (ipykernel)",
   "language": "python",
   "name": "python3"
  },
  "language_info": {
   "codemirror_mode": {
    "name": "ipython",
    "version": 3
   },
   "file_extension": ".py",
   "mimetype": "text/x-python",
   "name": "python",
   "nbconvert_exporter": "python",
   "pygments_lexer": "ipython3",
   "version": "3.11.7"
  }
 },
 "nbformat": 4,
 "nbformat_minor": 5
}

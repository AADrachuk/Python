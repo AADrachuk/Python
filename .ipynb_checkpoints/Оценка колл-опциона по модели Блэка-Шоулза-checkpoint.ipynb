{
 "cells": [
  {
   "cell_type": "code",
   "execution_count": 5,
   "id": "ed06852d",
   "metadata": {},
   "outputs": [
    {
     "name": "stdout",
     "output_type": "stream",
     "text": [
      "Стоимость европейского колл-опциона равна  8.03. \n"
     ]
    }
   ],
   "source": [
    "# Оценка европейского колл-опциона методом Монте-Карло по модели Блэка-Шоулза\n",
    "\n",
    "# Импорт необходимых библиотек\n",
    "import math\n",
    "import numpy as np \n",
    "\n",
    "# Параметры оценки\n",
    "S0 = 100.0       # начальная стоимость \n",
    "X = 105.0        # цена исполнения\n",
    "T = 1.0          # время до исполнения \n",
    "r = 0.05         # безрисковая ставка\n",
    "sigma = 0.2      # волатильность цены\n",
    "\n",
    "I = 100000       # кол-во итераций\n",
    "\n",
    "# алгоритм оценки\n",
    "# генератор псевдо-нормального коэффициента\n",
    "z = np.random.standard_normal(I) \n",
    "\n",
    "# моделирование стоимости для каждой интерации\n",
    "ST = S0 * np.exp((r - 0.5 * (sigma ** 2)) * T + sigma * math.sqrt(T) * z)\n",
    "\n",
    "# стоимость опциона при исполнении\n",
    "ht  = np.maximum(ST - X, 0)\n",
    "\n",
    "# оценка по методу Монте-Карло\n",
    "C0 = math.exp(-r * T) * np.mean(ht)\n",
    "\n",
    "\n",
    "# Вывод результата\n",
    "promt = \"Стоимость европейского колл-опциона равна %5.2f. \"\n",
    "print(promt % C0)"
   ]
  },
  {
   "cell_type": "code",
   "execution_count": null,
   "id": "ee3cf13a",
   "metadata": {},
   "outputs": [],
   "source": []
  }
 ],
 "metadata": {
  "kernelspec": {
   "display_name": "Python 3 (ipykernel)",
   "language": "python",
   "name": "python3"
  },
  "language_info": {
   "codemirror_mode": {
    "name": "ipython",
    "version": 3
   },
   "file_extension": ".py",
   "mimetype": "text/x-python",
   "name": "python",
   "nbconvert_exporter": "python",
   "pygments_lexer": "ipython3",
   "version": "3.11.7"
  }
 },
 "nbformat": 4,
 "nbformat_minor": 5
}

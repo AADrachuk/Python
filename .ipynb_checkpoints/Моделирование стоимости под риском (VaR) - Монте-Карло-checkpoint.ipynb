{
 "cells": [
  {
   "cell_type": "markdown",
   "id": "dee82b0a",
   "metadata": {},
   "source": [
    "<h1>Моделирование стоимости под риском (VaR) методом Монте-Карло</h1>\n",
    "\n",
    "<p>Разработано Драчуком А. для The Foundation</p>\n",
    "<a href=\"https://t.me/LYFTN\">Следите за нами в Телеграм</a>"
   ]
  },
  {
   "cell_type": "markdown",
   "id": "977923e0",
   "metadata": {},
   "source": [
    "<h3>Импортируем необходимые библиотеки</h3>"
   ]
  },
  {
   "cell_type": "code",
   "execution_count": 144,
   "id": "333aba99",
   "metadata": {},
   "outputs": [],
   "source": [
    "import numpy as np        #библиотека для работы с массивами и матрицами\n",
    "import pandas as pd        #библитека для работы с данными\n",
    "import datetime as dt        #библиотека для работы с временными рядами\n",
    "import yfinance as yf        #библиотека для работы с данными с Yahoo Finance\n",
    "import matplotlib.pyplot as plt        #импорт модуля для формирования графиков из библиотеки для визуализации данных\n",
    "from scipy.stats import norm        #импорт модуля статистических функций из библиотеки научных функций"
   ]
  },
  {
   "cell_type": "markdown",
   "id": "f580573b",
   "metadata": {},
   "source": [
    "<h3>Задаем глубину фактических данных для анализа</h3>"
   ]
  },
  {
   "cell_type": "code",
   "execution_count": 145,
   "id": "19d5614e",
   "metadata": {},
   "outputs": [],
   "source": [
    "years = 15        #указываем кол-во лет для анализа\n",
    "\n",
    "endDate = dt.datetime.now()        #задаем конечную дату -- текущий момент времени\n",
    "startDate = endDate - dt.timedelta(days = 365 * years)        #начальная дата: текущий момент времени - кол-во лет"
   ]
  },
  {
   "cell_type": "markdown",
   "id": "504893bd",
   "metadata": {},
   "source": [
    "<h3>Формируем массив тикеров ценных бумаг, из которых формируем портфель</h3>"
   ]
  },
  {
   "cell_type": "code",
   "execution_count": 146,
   "id": "e2ec1bb6",
   "metadata": {},
   "outputs": [],
   "source": [
    "#SPY -- SPDR S&P 500 ETF Trust\n",
    "#BND -- Vanguard Total Bond Market Index Fund \n",
    "#GLD -- SPDR Gold Shares\n",
    "#QQQ -- Invesco QQQ Trust\n",
    "#VTI -- Vanguard Total Stock Market Index Fund ETF Shares \n",
    "tickers = ['SPY', 'BND', 'GLD', 'QQQ', 'VTI']"
   ]
  },
  {
   "cell_type": "code",
   "execution_count": 147,
   "id": "63ae87bc",
   "metadata": {},
   "outputs": [
    {
     "name": "stderr",
     "output_type": "stream",
     "text": [
      "[*********************100%%**********************]  1 of 1 completed\n",
      "[*********************100%%**********************]  1 of 1 completed\n",
      "[*********************100%%**********************]  1 of 1 completed\n",
      "[*********************100%%**********************]  1 of 1 completed\n",
      "[*********************100%%**********************]  1 of 1 completed"
     ]
    },
    {
     "name": "stdout",
     "output_type": "stream",
     "text": [
      "                   SPY        BND         GLD         QQQ         VTI\n",
      "Date                                                                 \n",
      "2009-05-28   68.595078  50.030067   94.239998   30.550158   34.613125\n",
      "2009-05-29   69.809715  50.387772   96.199997   30.926023   35.151817\n",
      "2009-06-01   71.499710  50.047089   95.730003   31.808876   36.024353\n",
      "2009-06-02   71.560059  50.236332   96.360001   31.852554   36.168514\n",
      "2009-06-03   70.654724  50.406010   94.410004   31.756428   35.728462\n",
      "...                ...        ...         ...         ...         ...\n",
      "2024-05-17  529.450012  71.809998  223.660004  451.760010  262.299988\n",
      "2024-05-20  530.059998  71.739998  224.559998  454.910004  262.570007\n",
      "2024-05-21  531.359985  71.889999  224.229996  455.799988  263.109985\n",
      "2024-05-22  529.830017  71.800003  220.110001  455.709991  262.220001\n",
      "2024-05-23  525.960022  71.589996  215.720001  453.660004  259.989990\n",
      "\n",
      "[3774 rows x 5 columns]\n"
     ]
    },
    {
     "name": "stderr",
     "output_type": "stream",
     "text": [
      "\n"
     ]
    }
   ],
   "source": [
    "adj_close_df = pd.DataFrame()\n",
    "\n",
    "for ticker in tickers:\n",
    "    data = yf.download(ticker, start = startDate, end = endDate)\n",
    "    adj_close_df[ticker] = data['Adj Close']\n",
    "    \n",
    "print(adj_close_df)        #проверяем корректность выгрузки"
   ]
  },
  {
   "cell_type": "markdown",
   "id": "adebf662",
   "metadata": {},
   "source": [
    "<h3>Преобразовываем массив дневных цен в массив дневных доходностей</h3>"
   ]
  },
  {
   "cell_type": "code",
   "execution_count": 148,
   "id": "5673bada",
   "metadata": {},
   "outputs": [
    {
     "name": "stdout",
     "output_type": "stream",
     "text": [
      "                 SPY       BND       GLD       QQQ       VTI\n",
      "Date                                                        \n",
      "2009-05-29  0.017552  0.007124  0.020585  0.012228  0.015443\n",
      "2009-06-01  0.023920 -0.006784 -0.004898  0.028147  0.024519\n",
      "2009-06-02  0.000844  0.003774  0.006559  0.001372  0.003994\n",
      "2009-06-03 -0.012732  0.003372 -0.020444 -0.003022 -0.012241\n",
      "2009-06-04  0.009352 -0.006233  0.019094  0.011222  0.009931\n",
      "...              ...       ...       ...       ...       ...\n",
      "2024-05-17  0.001437 -0.002503  0.016363 -0.000487  0.001412\n",
      "2024-05-20  0.001151 -0.000975  0.004016  0.006949  0.001029\n",
      "2024-05-21  0.002450  0.002089 -0.001471  0.001954  0.002054\n",
      "2024-05-22 -0.002883 -0.001253 -0.018545 -0.000197 -0.003388\n",
      "2024-05-23 -0.007331 -0.002929 -0.020146 -0.004509 -0.008541\n",
      "\n",
      "[3773 rows x 5 columns]\n"
     ]
    }
   ],
   "source": [
    "log_returns = np.log(adj_close_df/adj_close_df.shift(1))        #рассчитываем натуральный логарифм дневной доходности ценных бумаг\n",
    "log_returns = log_returns.dropna()        #удаляем строки со значениями NaN \n",
    "\n",
    "print(log_returns)        #проверяем массив"
   ]
  },
  {
   "cell_type": "markdown",
   "id": "31ba5885",
   "metadata": {},
   "source": [
    "<h3>Пишем функции ожидаемой доходности и риска инвестиционного портфеля</h3>"
   ]
  },
  {
   "cell_type": "code",
   "execution_count": 149,
   "id": "13495020",
   "metadata": {},
   "outputs": [],
   "source": [
    "#функция ожидаемой доходности инвестиционного портфеля -- средневзвешенная доходность отдельных инструментов в его составе\n",
    "def expected_return(weights, log_returns):\n",
    "    return np.sum(log_returns.mean() * weights)"
   ]
  },
  {
   "cell_type": "code",
   "execution_count": 150,
   "id": "4b15202d",
   "metadata": {},
   "outputs": [],
   "source": [
    "#функция риска портфеля\n",
    "def standard_deviation(weights, cov_matrix): \n",
    "        variance = weights.T @ cov_matrix @ weights \n",
    "        return np.sqrt(variance)"
   ]
  },
  {
   "cell_type": "code",
   "execution_count": 151,
   "id": "685bd7f2",
   "metadata": {},
   "outputs": [
    {
     "name": "stdout",
     "output_type": "stream",
     "text": [
      "              SPY           BND       GLD           QQQ           VTI\n",
      "SPY  1.179564e-04 -2.617007e-07  0.000007  1.296244e-04  1.203842e-04\n",
      "BND -2.617007e-07  9.222794e-06  0.000009  6.121896e-07 -6.273559e-08\n",
      "GLD  7.049476e-06  8.611406e-06  0.000097  7.843420e-06  7.635376e-06\n",
      "QQQ  1.296244e-04  6.121896e-07  0.000008  1.654628e-04  1.324884e-04\n",
      "VTI  1.203842e-04 -6.273559e-08  0.000008  1.324884e-04  1.239176e-04\n"
     ]
    }
   ],
   "source": [
    "#формируем ковариационную матрицу\n",
    "cov_matrix = log_returns.cov()\n",
    "\n",
    "print(cov_matrix)        #проверяем результат"
   ]
  },
  {
   "cell_type": "markdown",
   "id": "8a39a704",
   "metadata": {},
   "source": [
    "<h3>Формируем базовый сценарий моделирования -- равновесный инвестиционый портфель</h3>"
   ]
  },
  {
   "cell_type": "code",
   "execution_count": 158,
   "id": "61fbe723",
   "metadata": {},
   "outputs": [
    {
     "name": "stdout",
     "output_type": "stream",
     "text": [
      "[0.2 0.2 0.2 0.2 0.2]\n"
     ]
    }
   ],
   "source": [
    "portfolio_value = 1000000        #стоимость портфеля\n",
    "weights = np.array([1/len(tickers)] * len(tickers))        #формируем массив из одинаковых весов\n",
    "portfolio_expected_return = expected_return(weights, log_returns)        #находим ожидаемую доходность равновесного портфеля\n",
    "portfolio_std_dev = standard_deviation(weights, cov_matrix)        #находим риск равновесного портфеля\n",
    "\n",
    "print(weights)        #проверяем веса"
   ]
  },
  {
   "cell_type": "markdown",
   "id": "c90294bb",
   "metadata": {},
   "source": [
    "<h3>Формируем функцию случайного z-значения на основе нормального распределения</h3>"
   ]
  },
  {
   "cell_type": "code",
   "execution_count": 153,
   "id": "6df3f22b",
   "metadata": {},
   "outputs": [],
   "source": [
    "def random_z_score():\n",
    "    return np.random.normal(0,1)"
   ]
  },
  {
   "cell_type": "markdown",
   "id": "4b2fa3ef",
   "metadata": {},
   "source": [
    "<h3>Задаем функцию стоимости портфеля на рассматриваемом периоде прогнозирования</h3>"
   ]
  },
  {
   "cell_type": "code",
   "execution_count": 154,
   "id": "6a9c8741",
   "metadata": {},
   "outputs": [],
   "source": [
    "days = 5        #кол-во дней, для которого рассчитывается стоимость под риском\n",
    "\n",
    "def scenario_gain_loss(portfolio_value, portfolio_std_dev, z_score, days):\n",
    "    return portfolio_value * portfolio_expected_return * days + portfolio_value * portfolio_std_dev * z_score * np.sqrt(days)"
   ]
  },
  {
   "cell_type": "markdown",
   "id": "2bb6d81d",
   "metadata": {},
   "source": [
    "<h3>Моделируем случайные результаты методом Монте-Карло</h3>"
   ]
  },
  {
   "cell_type": "code",
   "execution_count": 155,
   "id": "d0debb17",
   "metadata": {},
   "outputs": [],
   "source": [
    "simulations = 10000        #задаем кол-во итераций для моделирования методом Монте-Карло\n",
    "scenarioReturn = []        #задаем пустой массив \n",
    "\n",
    "#запускаем симуляцию\n",
    "for i in range(simulations):\n",
    "    z_score = random_z_score()\n",
    "    scenarioReturn.append(scenario_gain_loss(portfolio_value, portfolio_std_dev, z_score, days))"
   ]
  },
  {
   "cell_type": "markdown",
   "id": "2f75aa05",
   "metadata": {},
   "source": [
    "<h3>Задаем доверительный интервал и рассчитываем Стоимость под риском (VaR) на заданном временном горизонте</h3>"
   ]
  },
  {
   "cell_type": "code",
   "execution_count": 156,
   "id": "a3b4cbde",
   "metadata": {},
   "outputs": [
    {
     "name": "stdout",
     "output_type": "stream",
     "text": [
      "24819.994303857497\n"
     ]
    }
   ],
   "source": [
    "confidence_interval = 0.95        #доверительный интервал\n",
    "\n",
    "VaR = -np.percentile(scenarioReturn, 100 * (1 - confidence_interval))        #рассчитываем VaR\n",
    "\n",
    "print(VaR)        #выводим результат "
   ]
  },
  {
   "cell_type": "markdown",
   "id": "b9757ab1",
   "metadata": {},
   "source": [
    "<h3>Визуализируем результаты моделирования Монте-Карло на график</h3>"
   ]
  },
  {
   "cell_type": "code",
   "execution_count": 157,
   "id": "1825c260",
   "metadata": {},
   "outputs": [
    {
     "data": {
      "image/png": "[encoded data removed]",
      "text/plain": [
       "<Figure size 640x480 with 1 Axes>"
      ]
     },
     "metadata": {},
     "output_type": "display_data"
    }
   ],
   "source": [
    "plt.hist(scenarioReturn, bins = 50, density = True)\n",
    "plt.xlabel('Распределение прибыли / убытков инвестиционного портфеля')\n",
    "plt.ylabel('Частота')\n",
    "plt.title(label=f'Распределение прибыли / убытков портфеля на протяжении {days} дней')\n",
    "plt.axvline(-VaR, color='r', linestyle='dashed', linewidth=2, \n",
    "            label = f'Стоимость под рисков (VaR) для {confidence_interval:.0%} доверительного интервала')\n",
    "plt.legend(loc='upper center', bbox_to_anchor=(1.6, 1.0),\n",
    "          frameon=False, shadow=False, ncol=5)\n",
    "plt.show()"
   ]
  },
  {
   "cell_type": "code",
   "execution_count": null,
   "id": "35b558e4",
   "metadata": {},
   "outputs": [],
   "source": []
  }
 ],
 "metadata": {
  "kernelspec": {
   "display_name": "Python 3 (ipykernel)",
   "language": "python",
   "name": "python3"
  },
  "language_info": {
   "codemirror_mode": {
    "name": "ipython",
    "version": 3
   },
   "file_extension": ".py",
   "mimetype": "text/x-python",
   "name": "python",
   "nbconvert_exporter": "python",
   "pygments_lexer": "ipython3",
   "version": "3.11.7"
  }
 },
 "nbformat": 4,
 "nbformat_minor": 5
}

{
 "cells": [
  {
   "cell_type": "code",
   "execution_count": 2,
   "id": "c64f9cd5",
   "metadata": {},
   "outputs": [
    {
     "ename": "ModuleNotFoundError",
     "evalue": "No module named 'pandas_datareader'",
     "output_type": "error",
     "traceback": [
      "\u001b[0;31m---------------------------------------------------------------------------\u001b[0m",
      "\u001b[0;31mModuleNotFoundError\u001b[0m                       Traceback (most recent call last)",
      "Cell \u001b[0;32mIn[2], line 8\u001b[0m\n\u001b[1;32m      6\u001b[0m \u001b[38;5;28;01mimport\u001b[39;00m \u001b[38;5;21;01mmatplotlib\u001b[39;00m\u001b[38;5;21;01m.\u001b[39;00m\u001b[38;5;21;01mpyplot\u001b[39;00m \u001b[38;5;28;01mas\u001b[39;00m \u001b[38;5;21;01mplt\u001b[39;00m \n\u001b[1;32m      7\u001b[0m \u001b[38;5;28;01mimport\u001b[39;00m \u001b[38;5;21;01mdatetime\u001b[39;00m \u001b[38;5;28;01mas\u001b[39;00m \u001b[38;5;21;01mdt\u001b[39;00m \n\u001b[0;32m----> 8\u001b[0m \u001b[38;5;28;01mimport\u001b[39;00m \u001b[38;5;21;01mpandas_datareader\u001b[39;00m\u001b[38;5;21;01m.\u001b[39;00m\u001b[38;5;21;01mdata\u001b[39;00m \u001b[38;5;28;01mas\u001b[39;00m \u001b[38;5;21;01mpdr\u001b[39;00m \n\u001b[1;32m     10\u001b[0m \u001b[38;5;66;03m# Функция импорта данных с Yahoo.Finance\u001b[39;00m\n\u001b[1;32m     11\u001b[0m \u001b[38;5;28;01mdef\u001b[39;00m \u001b[38;5;21mget_data\u001b[39m(stocks, start, end):\n",
      "\u001b[0;31mModuleNotFoundError\u001b[0m: No module named 'pandas_datareader'"
     ]
    }
   ],
   "source": [
    "# Моделирование стоимости инвестиционного портфеля методом Монте-Карло\n",
    "\n",
    "# Импортируем необходимыхе библиотеки\n",
    "import pandas as pd \n",
    "import numpy as np \n",
    "import matplotlib.pyplot as plt \n",
    "import datetime as dt \n",
    "import pandas_datareader.data as pdr \n",
    "\n",
    "# Функция импорта данных с Yahoo.Finance\n",
    "def get_data(stocks, start, end):\n",
    "    stockData = pdr.get_data_yahoo(stocks, start, end)\n",
    "    stockData = stockData['Close']\n",
    "    returns = stockData.pct_change()\n",
    "    meanReturns = returns.mean()\n",
    "    covMatrix = returns.cov()\n",
    "    return meanReturns, covMatrix\n",
    "\n",
    "# Вектор тикеров инструментов, которые необходимо импортировать\n",
    "stockList = ['CBA', 'BHP', 'TLS', 'NAB', 'WBC', 'STO'] \n",
    "stocks = [stock + '.AX' for stock in stockList]\n",
    "\n",
    "endDate = dt.datetime.now()\n",
    "startDate = endDate - dt.timedelta(days = 300)\n",
    "\n",
    "meanReturns, covMatrix = get_data(stocks, startDate, endDate)\n",
    "\n",
    "print(meanReturns)"
   ]
  },
  {
   "cell_type": "code",
   "execution_count": null,
   "id": "27d52b24",
   "metadata": {},
   "outputs": [],
   "source": []
  }
 ],
 "metadata": {
  "kernelspec": {
   "display_name": "Python 3 (ipykernel)",
   "language": "python",
   "name": "python3"
  },
  "language_info": {
   "codemirror_mode": {
    "name": "ipython",
    "version": 3
   },
   "file_extension": ".py",
   "mimetype": "text/x-python",
   "name": "python",
   "nbconvert_exporter": "python",
   "pygments_lexer": "ipython3",
   "version": "3.11.7"
  }
 },
 "nbformat": 4,
 "nbformat_minor": 5
}

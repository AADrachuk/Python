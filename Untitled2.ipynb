{
 "cells": [
  {
   "cell_type": "markdown",
   "id": "dee82b0a",
   "metadata": {},
   "source": [
    "Разработано Драчуком А. для The Foundation\n",
    "Следите за нами в Телеграм: @LYFTN"
   ]
  },
  {
   "cell_type": "markdown",
   "id": "977923e0",
   "metadata": {},
   "source": [
    "Формула расчет NPV для последующего моделирования функцией python\n",
    "$$\n",
    "NPV = \\sum_{i=0}^{n}\\frac{FV_{i}}{(1+R)^i}\n",
    "$$"
   ]
  },
  {
   "cell_type": "code",
   "execution_count": 9,
   "id": "e3afdee6",
   "metadata": {},
   "outputs": [
    {
     "data": {
      "text/plain": [
       "6.370479317818267"
      ]
     },
     "execution_count": 9,
     "metadata": {},
     "output_type": "execute_result"
    }
   ],
   "source": [
    "# Функция расчета NPV на python \n",
    "# Пишем функцию \n",
    "def npv_function(rate, cashflows):\n",
    "    result = 0.0\n",
    "    for i in range(0, len(cashflows)):\n",
    "        result += cashflows[i] / (1 + rate)**i\n",
    "    return result\n",
    "\n",
    "# Задаем входные параметры расчета \n",
    "r = 0.05     # ставка дисконтирования\n",
    "cashflows = [-100, -30, 10, 40 , 50, 45, 20]    # денежный поток\n",
    "\n",
    "# Запускаем расчет вызовом функции\n",
    "npv_function(r, cashflows)"
   ]
  },
  {
   "cell_type": "code",
   "execution_count": null,
   "id": "e2ec1bb6",
   "metadata": {},
   "outputs": [],
   "source": []
  },
  {
   "cell_type": "code",
   "execution_count": null,
   "id": "63ae87bc",
   "metadata": {},
   "outputs": [],
   "source": []
  }
 ],
 "metadata": {
  "kernelspec": {
   "display_name": "Python 3 (ipykernel)",
   "language": "python",
   "name": "python3"
  },
  "language_info": {
   "codemirror_mode": {
    "name": "ipython",
    "version": 3
   },
   "file_extension": ".py",
   "mimetype": "text/x-python",
   "name": "python",
   "nbconvert_exporter": "python",
   "pygments_lexer": "ipython3",
   "version": "3.11.7"
  }
 },
 "nbformat": 4,
 "nbformat_minor": 5
}
